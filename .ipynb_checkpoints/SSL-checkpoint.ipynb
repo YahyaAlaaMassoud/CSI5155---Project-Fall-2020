{
 "cells": [
  {
   "cell_type": "code",
   "execution_count": 1,
   "metadata": {},
   "outputs": [],
   "source": [
    "import pandas as pd\n",
    "import numpy as np\n",
    "import matplotlib.pyplot as plt\n",
    "import random\n",
    "import copy\n",
    "\n",
    "from itertools import product\n",
    "from sklearn.tree import DecisionTreeClassifier # Import Decision Tree Classifier\n",
    "from sklearn.naive_bayes import GaussianNB # Import Naive Bayes Classifier\n",
    "from sklearn.svm import SVC, LinearSVC # Import SVM Classifier\n",
    "from sklearn.neighbors import KNeighborsClassifier # Import KNN Classifier\n",
    "from sklearn.multiclass import OneVsOneClassifier\n",
    "from sklearn.ensemble import VotingClassifier\n",
    "from sklearn.ensemble import RandomForestClassifier, ExtraTreesClassifier\n",
    "from sklearn.preprocessing import label_binarize\n",
    "from sklearn.model_selection import train_test_split # Import train_test_split function\n",
    "from sklearn import metrics #Import scikit-learn metrics module for accuracy calculation\n",
    "from sklearn import tree\n",
    "from pprint import pprint\n",
    "from imblearn.over_sampling import SMOTE, ADASYN\n",
    "from imblearn.under_sampling import ClusterCentroids\n",
    "from imblearn.combine import SMOTEENN, SMOTETomek\n",
    "from sklearn.model_selection import KFold, cross_val_score, StratifiedKFold\n",
    "from prettytable import PrettyTable\n",
    "from scipy import stats\n",
    "from matplotlib.pyplot import pie, axis, show\n",
    "from sklearn.experimental import enable_iterative_imputer\n",
    "from sklearn.impute import IterativeImputer, SimpleImputer\n",
    "from sklearn.feature_selection import VarianceThreshold, SelectKBest, mutual_info_classif, SelectFromModel, RFE\n",
    "from sklearn.svm import SVR\n",
    "from sklearn.ensemble import GradientBoostingClassifier, AdaBoostClassifier\n",
    "from sklearn.model_selection import cross_validate\n",
    "from sklearn.metrics import recall_score\n",
    "# https://github.com/caiocarneloz/masksemi\n",
    "from masksemi.masksemi import maskData\n",
    "# https://www.kaggle.com/semisupervised/semi-supervised-sklearn\n",
    "\n",
    "from helpers import Trainer, plot_conf_mat, plot_roc, plot_roc_avg, plot_pie_chart, stats_test\n",
    "\n",
    "random.seed(0)"
   ]
  },
  {
   "cell_type": "code",
   "execution_count": 2,
   "metadata": {},
   "outputs": [
    {
     "name": "stdout",
     "output_type": "stream",
     "text": [
      "X_cs_15.shape, y_cs_15.shape (27209, 15) (27209,)\n"
     ]
    }
   ],
   "source": [
    "X_cs_15 = np.load('npy_data/X_combinedSampling_15Features_task1.npy')\n",
    "y_cs_15 = np.load('npy_data/y_combinedSampling_15Features_task1.npy')\n",
    "print('X_cs_15.shape, y_cs_15.shape', X_cs_15.shape, y_cs_15.shape)\n",
    "\n",
    "classes = ['No', '>30', '<30']"
   ]
  },
  {
   "cell_type": "code",
   "execution_count": 3,
   "metadata": {},
   "outputs": [
    {
     "data": {
      "image/png": "[encoded data removed]",
      "text/plain": [
       "<Figure size 432x288 with 1 Axes>"
      ]
     },
     "metadata": {},
     "output_type": "display_data"
    }
   ],
   "source": [
    "plot_pie_chart(classes, y_cs_15, 15)"
   ]
  },
  {
   "cell_type": "code",
   "execution_count": 4,
   "metadata": {},
   "outputs": [],
   "source": [
    "kfold = StratifiedKFold(10, random_state=False, shuffle=True)\n",
    "\n",
    "folds_15 = kfold.split(X_cs_15, y_cs_15)\n",
    "folds_15 = [(train, test) for train, test in folds_15]"
   ]
  },
  {
   "cell_type": "code",
   "execution_count": 5,
   "metadata": {},
   "outputs": [],
   "source": [
    "data_classes_15  = []\n",
    "\n",
    "for i in range(3):\n",
    "    data_classes_15.append(len(y_cs_15[y_cs_15==i]))\n",
    "    \n",
    "cls2clr = {\n",
    "    0: 'red',\n",
    "    1: 'green',\n",
    "    2: 'blue'\n",
    "}\n",
    "clf2clr = {\n",
    "    0: 'red',\n",
    "    1: 'green',\n",
    "    2: 'blue',\n",
    "    3: 'purple',\n",
    "    4: 'cornflowerblue',\n",
    "}"
   ]
  },
  {
   "cell_type": "code",
   "execution_count": 6,
   "metadata": {},
   "outputs": [],
   "source": [
    "trainer = Trainer(X=X_cs_15, y=y_cs_15, folds=folds_15, data_classes=data_classes_15, classes=classes)"
   ]
  },
  {
   "cell_type": "code",
   "execution_count": null,
   "metadata": {},
   "outputs": [],
   "source": [
    "tables, xtrees_metrics_15 = trainer.train_model(model_name='XTrees')\n",
    "table1, table2, conf_mat, conf_mat_norm = tables\n",
    "print('----------------15 Selected Features----------------')\n",
    "print(table1)\n",
    "print(table2)\n",
    "print(conf_mat)\n",
    "plot_conf_mat(conf_mat_norm, '15 selected')\n",
    "plot_roc(xtrees_metrics_15, data_classes_15, cls2clr, 'XTrees')"
   ]
  },
  {
   "cell_type": "markdown",
   "metadata": {},
   "source": [
    "### Unlabel Data "
   ]
  },
  {
   "cell_type": "code",
   "execution_count": null,
   "metadata": {},
   "outputs": [],
   "source": [
    "X_ssl_10, y_ssl_10 = X_cs_15, maskData(y_cs_15, 1. - 0.1)\n",
    "X_ssl_20, y_ssl_20 = X_cs_15, maskData(y_cs_15, 1. - 0.2)\n",
    "X_ssl_50, y_ssl_50 = X_cs_15, maskData(y_cs_15, 1. - 0.5)\n",
    "X_ssl_90, y_ssl_90 = X_cs_15, maskData(y_cs_15, 1. - 0.9)\n",
    "X_ssl_95, y_ssl_95 = X_cs_15, maskData(y_cs_15, 1. - 0.95)"
   ]
  },
  {
   "cell_type": "code",
   "execution_count": null,
   "metadata": {},
   "outputs": [],
   "source": [
    "classes = ['No', '>30', '<30']\n",
    "plot_pie_chart(classes, y_ssl_10, '10%', 'ssl')\n",
    "plot_pie_chart(classes, y_ssl_20, '20%', 'ssl')\n",
    "plot_pie_chart(classes, y_ssl_50, '50%', 'ssl')\n",
    "plot_pie_chart(classes, y_ssl_90, '90%', 'ssl')\n",
    "plot_pie_chart(classes, y_ssl_95, '95%', 'ssl')"
   ]
  },
  {
   "cell_type": "code",
   "execution_count": null,
   "metadata": {},
   "outputs": [],
   "source": [
    "trainer10 = Trainer(X=X_ssl_10, y=y_ssl_10, folds=folds_15, data_classes=data_classes_15, classes=classes)\n",
    "trainer20 = Trainer(X=X_ssl_20, y=y_ssl_20, folds=folds_15, data_classes=data_classes_15, classes=classes)\n",
    "trainer50 = Trainer(X=X_ssl_50, y=y_ssl_50, folds=folds_15, data_classes=data_classes_15, classes=classes)\n",
    "trainer90 = Trainer(X=X_ssl_90, y=y_ssl_90, folds=folds_15, data_classes=data_classes_15, classes=classes)\n",
    "trainer95 = Trainer(X=X_ssl_95, y=y_ssl_95, folds=folds_15, data_classes=data_classes_15, classes=classes)"
   ]
  },
  {
   "cell_type": "code",
   "execution_count": null,
   "metadata": {},
   "outputs": [],
   "source": [
    "tables, labelProp_metrics_10 = trainer10.train_model(model_name='LabelProp')\n",
    "table1, table2, conf_mat, conf_mat_norm = tables\n",
    "print('----------------SSL LabelProp - 10% Unlabelled----------------')\n",
    "print(table1)\n",
    "print(table2)\n",
    "print(conf_mat)\n",
    "plot_conf_mat(conf_mat_norm, 'LabelProp 10%')\n",
    "plot_roc(labelProp_metrics_10, data_classes_15, cls2clr, 'LabelProp 10%')\n",
    "\n",
    "print('-----------------------------------------------------------------------')\n",
    "\n",
    "tables, labelProp_metrics_20 = trainer20.train_model(model_name='LabelProp')\n",
    "table1, table2, conf_mat, conf_mat_norm = tables\n",
    "print('----------------SSL LabelProp - 20% Unlabelled----------------')\n",
    "print(table1)\n",
    "print(table2)\n",
    "print(conf_mat)\n",
    "plot_conf_mat(conf_mat_norm, 'LabelProp 20%')\n",
    "plot_roc(labelProp_metrics_20, data_classes_15, cls2clr, 'LabelProp 20%')\n",
    "\n",
    "print('-----------------------------------------------------------------------')\n",
    "\n",
    "tables, labelProp_metrics_50 = trainer50.train_model(model_name='LabelProp')\n",
    "table1, table2, conf_mat, conf_mat_norm = tables\n",
    "print('----------------SSL LabelProp - 50% Unlabelled----------------')\n",
    "print(table1)\n",
    "print(table2)\n",
    "print(conf_mat)\n",
    "plot_conf_mat(conf_mat_norm, 'LabelProp 50%')\n",
    "plot_roc(labelProp_metrics_50, data_classes_15, cls2clr, 'LabelProp 50%')\n",
    "\n",
    "print('-----------------------------------------------------------------------')\n",
    "\n",
    "tables, labelProp_metrics_90 = trainer90.train_model(model_name='LabelProp')\n",
    "table1, table2, conf_mat, conf_mat_norm = tables\n",
    "print('----------------SSL LabelProp - 90% Unlabelled----------------')\n",
    "print(table1)\n",
    "print(table2)\n",
    "print(conf_mat)\n",
    "plot_conf_mat(conf_mat_norm, 'LabelProp 90%')\n",
    "plot_roc(labelProp_metrics_90, data_classes_15, cls2clr, 'LabelProp 90%')\n",
    "\n",
    "print('-----------------------------------------------------------------------')\n",
    "\n",
    "tables, labelProp_metrics_95 = trainer95.train_model(model_name='LabelProp')\n",
    "table1, table2, conf_mat, conf_mat_norm = tables\n",
    "print('----------------SSL LabelProp - 95% Unlabelled----------------')\n",
    "print(table1)\n",
    "print(table2)\n",
    "print(conf_mat)\n",
    "plot_conf_mat(conf_mat_norm, 'LabelProp 95%')\n",
    "plot_roc(labelProp_metrics_95, data_classes_15, cls2clr, 'LabelProp 95%')\n",
    "\n",
    "print('-----------------------------------------------------------------------')"
   ]
  },
  {
   "cell_type": "code",
   "execution_count": null,
   "metadata": {},
   "outputs": [],
   "source": [
    "tables, labelSpread_metrics_10 = trainer10.train_model(model_name='LabelSpread')\n",
    "table1, table2, conf_mat, conf_mat_norm = tables\n",
    "print('----------------SSL LabelSpread - 10% Unlabelled----------------')\n",
    "print(table1)\n",
    "print(table2)\n",
    "print(conf_mat)\n",
    "plot_conf_mat(conf_mat_norm, 'LabelSpread')\n",
    "plot_roc(labelSpread_metrics_10, data_classes_15, cls2clr, 'LabelSpread')\n",
    "\n",
    "print('-----------------------------------------------------------------------')\n",
    "\n",
    "tables, labelSpread_metrics_20 = trainer20.train_model(model_name='LabelSpread')\n",
    "table1, table2, conf_mat, conf_mat_norm = tables\n",
    "print('----------------SSL LabelSpread - 20% Unlabelled----------------')\n",
    "print(table1)\n",
    "print(table2)\n",
    "print(conf_mat)\n",
    "plot_conf_mat(conf_mat_norm, 'LabelSpread')\n",
    "plot_roc(labelSpread_metrics_20, data_classes_15, cls2clr, 'LabelSpread')\n",
    "\n",
    "print('-----------------------------------------------------------------------')\n",
    "\n",
    "tables, labelSpread_metrics_50 = trainer50.train_model(model_name='LabelSpread')\n",
    "table1, table2, conf_mat, conf_mat_norm = tables\n",
    "print('----------------SSL LabelSpread - 50% Unlabelled----------------')\n",
    "print(table1)\n",
    "print(table2)\n",
    "print(conf_mat)\n",
    "plot_conf_mat(conf_mat_norm, 'LabelSpread')\n",
    "plot_roc(labelSpread_metrics_50, data_classes_15, cls2clr, 'LabelSpread')\n",
    "\n",
    "print('-----------------------------------------------------------------------')\n",
    "\n",
    "tables, labelSpread_metrics_90 = trainer90.train_model(model_name='LabelSpread')\n",
    "table1, table2, conf_mat, conf_mat_norm = tables\n",
    "print('----------------SSL LabelSpread - 90% Unlabelled----------------')\n",
    "print(table1)\n",
    "print(table2)\n",
    "print(conf_mat)\n",
    "plot_conf_mat(conf_mat_norm, 'LabelSpread')\n",
    "plot_roc(labelSpread_metrics_90, data_classes_15, cls2clr, 'LabelSpread')\n",
    "\n",
    "print('-----------------------------------------------------------------------')\n",
    "\n",
    "tables, labelSpread_metrics_95 = trainer95.train_model(model_name='LabelSpread')\n",
    "table1, table2, conf_mat, conf_mat_norm = tables\n",
    "print('----------------SSL LabelSpread - 95% Unlabelled----------------')\n",
    "print(table1)\n",
    "print(table2)\n",
    "print(conf_mat)\n",
    "plot_conf_mat(conf_mat_norm, 'LabelSpread')\n",
    "plot_roc(labelSpread_metrics_95, data_classes_15, cls2clr, 'LabelSpread')\n",
    "\n",
    "print('-----------------------------------------------------------------------')"
   ]
  },
  {
   "cell_type": "code",
   "execution_count": null,
   "metadata": {},
   "outputs": [],
   "source": [
    "# tables, pycc_metrics_10 = trainer10.train_model(model_name='PYCC')\n",
    "# table1, table2, conf_mat, conf_mat_norm = tables\n",
    "# print('----------------SSL PYCC - 10% Unlabelled----------------')\n",
    "# print(table1)\n",
    "# print(table2)\n",
    "# print(conf_mat)\n",
    "# plot_conf_mat(conf_mat_norm, 'PYCC')\n",
    "# plot_roc(pycc_metrics_10, data_classes_15, cls2clr, 'PYCC')\n",
    "\n",
    "# print('-----------------------------------------------------------------------')\n",
    "\n",
    "# tables, pycc_metrics_20 = trainer20.train_model(model_name='PYCC')\n",
    "# table1, table2, conf_mat, conf_mat_norm = tables\n",
    "# print('----------------SSL PYCC - 20% Unlabelled----------------')\n",
    "# print(table1)\n",
    "# print(table2)\n",
    "# print(conf_mat)\n",
    "# plot_conf_mat(conf_mat_norm, 'PYCC')\n",
    "# plot_roc(pycc_metrics_20, data_classes_15, cls2clr, 'PYCC')\n",
    "\n",
    "# print('-----------------------------------------------------------------------')\n",
    "\n",
    "# tables, pycc_metrics_50 = trainer50.train_model(model_name='PYCC')\n",
    "# table1, table2, conf_mat, conf_mat_norm = tables\n",
    "# print('----------------SSL PYCC - 50% Unlabelled----------------')\n",
    "# print(table1)\n",
    "# print(table2)\n",
    "# print(conf_mat)\n",
    "# plot_conf_mat(conf_mat_norm, 'PYCC')\n",
    "# plot_roc(pycc_metrics_50, data_classes_15, cls2clr, 'PYCC')\n",
    "\n",
    "# print('-----------------------------------------------------------------------')\n",
    "\n",
    "# tables, pycc_metrics_90 = trainer90.train_model(model_name='PYCC')\n",
    "# table1, table2, conf_mat, conf_mat_norm = tables\n",
    "# print('----------------SSL PYCC - 90% Unlabelled----------------')\n",
    "# print(table1)\n",
    "# print(table2)\n",
    "# print(conf_mat)\n",
    "# plot_conf_mat(conf_mat_norm, 'PYCC')\n",
    "# plot_roc(pycc_metrics_90, data_classes_15, cls2clr, 'PYCC')\n",
    "\n",
    "# print('-----------------------------------------------------------------------')\n",
    "\n",
    "# tables, pycc_metrics_95 = trainer95.train_model(model_name='PYCC')\n",
    "# table1, table2, conf_mat, conf_mat_norm = tables\n",
    "# print('----------------SSL PYCC - 95% Unlabelled----------------')\n",
    "# print(table1)\n",
    "# print(table2)\n",
    "# print(conf_mat)\n",
    "# plot_conf_mat(conf_mat_norm, 'PYCC')\n",
    "# plot_roc(pycc_metrics_95, data_classes_15, cls2clr, 'PYCC')\n",
    "\n",
    "# print('-----------------------------------------------------------------------')"
   ]
  }
 ],
 "metadata": {
  "kernelspec": {
   "display_name": "Python 3",
   "language": "python",
   "name": "python3"
  },
  "language_info": {
   "codemirror_mode": {
    "name": "ipython",
    "version": 3
   },
   "file_extension": ".py",
   "mimetype": "text/x-python",
   "name": "python",
   "nbconvert_exporter": "python",
   "pygments_lexer": "ipython3",
   "version": "3.6.9"
  }
 },
 "nbformat": 4,
 "nbformat_minor": 2
}
