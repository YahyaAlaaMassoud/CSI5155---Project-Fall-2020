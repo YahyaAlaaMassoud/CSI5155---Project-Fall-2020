{
 "cells": [
  {
   "cell_type": "code",
   "execution_count": 1,
   "metadata": {},
   "outputs": [],
   "source": [
    "import pandas as pd\n",
    "import numpy as np\n",
    "import matplotlib.pyplot as plt\n",
    "import random\n",
    "import copy\n",
    "\n",
    "from itertools import product\n",
    "from sklearn.tree import DecisionTreeClassifier # Import Decision Tree Classifier\n",
    "from sklearn.naive_bayes import GaussianNB # Import Naive Bayes Classifier\n",
    "from sklearn.svm import SVC, LinearSVC # Import SVM Classifier\n",
    "from sklearn.neighbors import KNeighborsClassifier # Import KNN Classifier\n",
    "from sklearn.multiclass import OneVsOneClassifier\n",
    "from sklearn.ensemble import VotingClassifier\n",
    "from sklearn.ensemble import RandomForestClassifier, ExtraTreesClassifier\n",
    "from sklearn.preprocessing import label_binarize\n",
    "from sklearn.model_selection import train_test_split # Import train_test_split function\n",
    "from sklearn import metrics #Import scikit-learn metrics module for accuracy calculation\n",
    "from sklearn import tree\n",
    "from pprint import pprint\n",
    "from imblearn.over_sampling import SMOTE, ADASYN\n",
    "from imblearn.under_sampling import ClusterCentroids\n",
    "from imblearn.combine import SMOTEENN, SMOTETomek\n",
    "from sklearn.model_selection import KFold, cross_val_score, StratifiedKFold\n",
    "from prettytable import PrettyTable\n",
    "from scipy import stats\n",
    "from matplotlib.pyplot import pie, axis, show\n",
    "from sklearn.experimental import enable_iterative_imputer\n",
    "from sklearn.impute import IterativeImputer, SimpleImputer\n",
    "from sklearn.feature_selection import VarianceThreshold, SelectKBest, mutual_info_classif, SelectFromModel, RFE\n",
    "from sklearn.svm import SVR\n",
    "from sklearn.ensemble import GradientBoostingClassifier, AdaBoostClassifier\n",
    "from sklearn.model_selection import cross_validate\n",
    "from sklearn.metrics import recall_score\n",
    "\n",
    "from helpers import Trainer, plot_conf_mat, plot_roc, plot_roc_avg, plot_pie_chart, stats_test\n",
    "\n",
    "random.seed(0)"
   ]
  },
  {
   "cell_type": "code",
   "execution_count": 2,
   "metadata": {},
   "outputs": [
    {
     "ename": "FileNotFoundError",
     "evalue": "[Errno 2] No such file or directory: 'npy_data_2/X_combinedSampling_15Features_task2.npy'",
     "output_type": "error",
     "traceback": [
      "\u001b[0;31m---------------------------------------------------------------------------\u001b[0m",
      "\u001b[0;31mFileNotFoundError\u001b[0m                         Traceback (most recent call last)",
      "\u001b[0;32m<ipython-input-2-51cfd67b8038>\u001b[0m in \u001b[0;36m<module>\u001b[0;34m\u001b[0m\n\u001b[0;32m----> 1\u001b[0;31m \u001b[0mX_cs_15\u001b[0m \u001b[0;34m=\u001b[0m \u001b[0mnp\u001b[0m\u001b[0;34m.\u001b[0m\u001b[0mload\u001b[0m\u001b[0;34m(\u001b[0m\u001b[0;34m'npy_data_2/X_combinedSampling_15Features_task2.npy'\u001b[0m\u001b[0;34m)\u001b[0m\u001b[0;34m\u001b[0m\u001b[0;34m\u001b[0m\u001b[0m\n\u001b[0m\u001b[1;32m      2\u001b[0m \u001b[0my_cs_15\u001b[0m \u001b[0;34m=\u001b[0m \u001b[0mnp\u001b[0m\u001b[0;34m.\u001b[0m\u001b[0mload\u001b[0m\u001b[0;34m(\u001b[0m\u001b[0;34m'npy_data_2/y_combinedSampling_15Features_task2.npy'\u001b[0m\u001b[0;34m)\u001b[0m\u001b[0;34m\u001b[0m\u001b[0;34m\u001b[0m\u001b[0m\n\u001b[1;32m      3\u001b[0m \u001b[0mprint\u001b[0m\u001b[0;34m(\u001b[0m\u001b[0;34m'X_cs_15.shape, y_cs_15.shape'\u001b[0m\u001b[0;34m,\u001b[0m \u001b[0mX_cs_15\u001b[0m\u001b[0;34m.\u001b[0m\u001b[0mshape\u001b[0m\u001b[0;34m,\u001b[0m \u001b[0my_cs_15\u001b[0m\u001b[0;34m.\u001b[0m\u001b[0mshape\u001b[0m\u001b[0;34m)\u001b[0m\u001b[0;34m\u001b[0m\u001b[0;34m\u001b[0m\u001b[0m\n\u001b[1;32m      4\u001b[0m \u001b[0;34m\u001b[0m\u001b[0m\n\u001b[1;32m      5\u001b[0m \u001b[0mclasses\u001b[0m \u001b[0;34m=\u001b[0m \u001b[0;34m[\u001b[0m\u001b[0;34m'Female'\u001b[0m\u001b[0;34m,\u001b[0m \u001b[0;34m'Male'\u001b[0m\u001b[0;34m]\u001b[0m\u001b[0;34m\u001b[0m\u001b[0;34m\u001b[0m\u001b[0m\n",
      "\u001b[0;32m~/Yahya/tf2/lib/python3.6/site-packages/numpy/lib/npyio.py\u001b[0m in \u001b[0;36mload\u001b[0;34m(file, mmap_mode, allow_pickle, fix_imports, encoding)\u001b[0m\n\u001b[1;32m    426\u001b[0m         \u001b[0mown_fid\u001b[0m \u001b[0;34m=\u001b[0m \u001b[0;32mFalse\u001b[0m\u001b[0;34m\u001b[0m\u001b[0;34m\u001b[0m\u001b[0m\n\u001b[1;32m    427\u001b[0m     \u001b[0;32melse\u001b[0m\u001b[0;34m:\u001b[0m\u001b[0;34m\u001b[0m\u001b[0;34m\u001b[0m\u001b[0m\n\u001b[0;32m--> 428\u001b[0;31m         \u001b[0mfid\u001b[0m \u001b[0;34m=\u001b[0m \u001b[0mopen\u001b[0m\u001b[0;34m(\u001b[0m\u001b[0mos_fspath\u001b[0m\u001b[0;34m(\u001b[0m\u001b[0mfile\u001b[0m\u001b[0;34m)\u001b[0m\u001b[0;34m,\u001b[0m \u001b[0;34m\"rb\"\u001b[0m\u001b[0;34m)\u001b[0m\u001b[0;34m\u001b[0m\u001b[0;34m\u001b[0m\u001b[0m\n\u001b[0m\u001b[1;32m    429\u001b[0m         \u001b[0mown_fid\u001b[0m \u001b[0;34m=\u001b[0m \u001b[0;32mTrue\u001b[0m\u001b[0;34m\u001b[0m\u001b[0;34m\u001b[0m\u001b[0m\n\u001b[1;32m    430\u001b[0m \u001b[0;34m\u001b[0m\u001b[0m\n",
      "\u001b[0;31mFileNotFoundError\u001b[0m: [Errno 2] No such file or directory: 'npy_data_2/X_combinedSampling_15Features_task2.npy'"
     ]
    }
   ],
   "source": [
    "X_cs_15 = np.load('npy_data/X_combinedSampling_15Features_task2.npy')\n",
    "y_cs_15 = np.load('npy_data/y_combinedSampling_15Features_task2.npy')\n",
    "print('X_cs_15.shape, y_cs_15.shape', X_cs_15.shape, y_cs_15.shape)\n",
    "\n",
    "classes = ['Female', 'Male']"
   ]
  },
  {
   "cell_type": "code",
   "execution_count": null,
   "metadata": {},
   "outputs": [],
   "source": [
    "plot_pie_chart(classes, y_cs_15, 15)"
   ]
  },
  {
   "cell_type": "code",
   "execution_count": null,
   "metadata": {},
   "outputs": [],
   "source": [
    "kfold = StratifiedKFold(10, random_state=False, shuffle=True)\n",
    "\n",
    "folds_15 = kfold.split(X_cs_15, y_cs_15)\n",
    "folds_15 = [(train, test) for train, test in folds_15]"
   ]
  },
  {
   "cell_type": "code",
   "execution_count": null,
   "metadata": {},
   "outputs": [],
   "source": [
    "data_classes_15  = []\n",
    "\n",
    "for i in range(2):\n",
    "    data_classes_15.append(len(y_cs_15[y_cs_15==i]))\n",
    "    \n",
    "cls2clr = {\n",
    "    0: 'red',\n",
    "    1: 'green'\n",
    "}\n",
    "clf2clr = {\n",
    "    0: 'red',\n",
    "    1: 'green',\n",
    "    2: 'blue',\n",
    "    3: 'purple',\n",
    "    4: 'cornflowerblue',\n",
    "}"
   ]
  },
  {
   "cell_type": "code",
   "execution_count": null,
   "metadata": {},
   "outputs": [],
   "source": [
    "trainer = Trainer(X=X_cs_15, y=y_cs_15, folds=folds_15, data_classes=data_classes_15, classes=classes)"
   ]
  },
  {
   "cell_type": "code",
   "execution_count": null,
   "metadata": {
    "scrolled": false
   },
   "outputs": [],
   "source": [
    "tables, xgboost_metrics_15 = trainer.train_model(model_name='XGBoost')\n",
    "table1, table2, conf_mat, conf_mat_norm = tables\n",
    "print('----------------15 Selected Features----------------')\n",
    "print(table1)\n",
    "print(table2)\n",
    "print(conf_mat)\n",
    "plot_conf_mat(conf_mat_norm, '15 selected')\n",
    "plot_roc(xgboost_metrics_15, data_classes_15, cls2clr, 'XGBoost')"
   ]
  },
  {
   "cell_type": "code",
   "execution_count": null,
   "metadata": {
    "scrolled": false
   },
   "outputs": [],
   "source": [
    "tables, adaboost_metrics_15 = trainer.train_model(model_name='AdaBoost')\n",
    "table1, table2, conf_mat, conf_mat_norm = tables\n",
    "print('----------------15 Selected Features----------------')\n",
    "print(table1)\n",
    "print(table2)\n",
    "print(conf_mat)\n",
    "plot_conf_mat(conf_mat_norm, '15 selected')\n",
    "plot_roc(adaboost_metrics_15, data_classes_15, cls2clr, 'AdaBoost')"
   ]
  },
  {
   "cell_type": "code",
   "execution_count": null,
   "metadata": {
    "scrolled": false
   },
   "outputs": [],
   "source": [
    "tables, xtrees_metrics_15 = trainer.train_model(model_name='XTrees')\n",
    "table1, table2, conf_mat, conf_mat_norm = tables\n",
    "print('----------------15 Selected Features----------------')\n",
    "print(table1)\n",
    "print(table2)\n",
    "print(conf_mat)\n",
    "plot_conf_mat(conf_mat_norm, '15 selected')\n",
    "plot_roc(xtrees_metrics_15, data_classes_15, cls2clr, 'XTrees')"
   ]
  },
  {
   "cell_type": "code",
   "execution_count": null,
   "metadata": {
    "scrolled": false
   },
   "outputs": [],
   "source": [
    "tables, knn_metrics_15 = trainer.train_model(model_name='KNN')\n",
    "table1, table2, conf_mat, conf_mat_norm = tables\n",
    "print('----------------15 Selected Features----------------')\n",
    "print(table1)\n",
    "print(table2)\n",
    "print(conf_mat)\n",
    "plot_conf_mat(conf_mat_norm, '15 selected')\n",
    "plot_roc(knn_metrics_15, data_classes_15, cls2clr, 'KNN')"
   ]
  },
  {
   "cell_type": "code",
   "execution_count": null,
   "metadata": {
    "scrolled": false
   },
   "outputs": [],
   "source": [
    "tables, dt_metrics_15 = trainer.train_model(model_name='DT')\n",
    "table1, table2, conf_mat, conf_mat_norm = tables\n",
    "print('----------------15 Selected Features----------------')\n",
    "print(table1)\n",
    "print(table2)\n",
    "print(conf_mat)\n",
    "plot_conf_mat(conf_mat_norm, '15 selected')\n",
    "plot_roc(dt_metrics_15, data_classes_15, cls2clr, 'DT')"
   ]
  },
  {
   "cell_type": "code",
   "execution_count": null,
   "metadata": {},
   "outputs": [],
   "source": [
    "plot_roc_avg([xgboost_metrics_15,\n",
    "                adaboost_metrics_15,\n",
    "                xtrees_metrics_15,\n",
    "                knn_metrics_15,\n",
    "                dt_metrics_15], \n",
    "               ['XGBoost',\n",
    "                'AdaBoost',\n",
    "                'XTrees',\n",
    "                'KNN',\n",
    "                'DT'], \n",
    "               clf2clr,\n",
    "            micro=True, macro=False)"
   ]
  },
  {
   "cell_type": "code",
   "execution_count": null,
   "metadata": {},
   "outputs": [],
   "source": [
    "plot_roc_avg([xgboost_metrics_15,\n",
    "                adaboost_metrics_15,\n",
    "                xtrees_metrics_15,\n",
    "                knn_metrics_15,\n",
    "                dt_metrics_15], \n",
    "               ['XGBoost',\n",
    "                'AdaBoost',\n",
    "                'XTrees',\n",
    "                'KNN',\n",
    "                'DT'], \n",
    "               clf2clr,\n",
    "               micro=False, macro=True)"
   ]
  },
  {
   "cell_type": "code",
   "execution_count": null,
   "metadata": {},
   "outputs": [],
   "source": [
    "all_scores = [xgboost_metrics_15['recall'], \n",
    "              adaboost_metrics_15['recall'], \n",
    "              xtrees_metrics_15['recall'], \n",
    "              knn_metrics_15['recall'], \n",
    "              dt_metrics_15['recall']]\n",
    "all_clf = ['XGBoost',\n",
    "           'AdaBoost',\n",
    "           'XTrees',\n",
    "           'KNN',\n",
    "           'DT']\n",
    "print(stats_test(all_scores, all_clf))"
   ]
  }
 ],
 "metadata": {
  "kernelspec": {
   "display_name": "Python 3",
   "language": "python",
   "name": "python3"
  },
  "language_info": {
   "codemirror_mode": {
    "name": "ipython",
    "version": 3
   },
   "file_extension": ".py",
   "mimetype": "text/x-python",
   "name": "python",
   "nbconvert_exporter": "python",
   "pygments_lexer": "ipython3",
   "version": "3.6.9"
  }
 },
 "nbformat": 4,
 "nbformat_minor": 2
}
