{
 "cells": [
  {
   "cell_type": "code",
   "execution_count": 1,
   "metadata": {},
   "outputs": [],
   "source": [
    "import pandas as pd\n",
    "import numpy as np\n",
    "import matplotlib.pyplot as plt\n",
    "import random\n",
    "import copy\n",
    "\n",
    "from itertools import product\n",
    "from sklearn.tree import DecisionTreeClassifier # Import Decision Tree Classifier\n",
    "from sklearn.naive_bayes import GaussianNB # Import Naive Bayes Classifier\n",
    "from sklearn.svm import SVC, LinearSVC # Import SVM Classifier\n",
    "from sklearn.neighbors import KNeighborsClassifier # Import KNN Classifier\n",
    "from sklearn.multiclass import OneVsOneClassifier, OneVsRestClassifier\n",
    "from sklearn.ensemble import VotingClassifier\n",
    "from sklearn.ensemble import RandomForestClassifier, ExtraTreesClassifier\n",
    "from sklearn.preprocessing import label_binarize\n",
    "from sklearn.model_selection import train_test_split # Import train_test_split function\n",
    "from sklearn import metrics #Import scikit-learn metrics module for accuracy calculation\n",
    "from sklearn import tree\n",
    "from pprint import pprint\n",
    "from imblearn.over_sampling import SMOTE, ADASYN\n",
    "from imblearn.under_sampling import ClusterCentroids\n",
    "from imblearn.combine import SMOTEENN, SMOTETomek\n",
    "from sklearn.model_selection import KFold, cross_val_score, StratifiedKFold\n",
    "from prettytable import PrettyTable\n",
    "from scipy import stats\n",
    "from matplotlib.pyplot import pie, axis, show\n",
    "from sklearn.experimental import enable_iterative_imputer\n",
    "from sklearn.impute import IterativeImputer, SimpleImputer\n",
    "from sklearn.feature_selection import VarianceThreshold, SelectKBest, mutual_info_classif, SelectFromModel, RFE\n",
    "from sklearn.svm import SVR\n",
    "from sklearn.ensemble import GradientBoostingClassifier, AdaBoostClassifier\n",
    "from sklearn.model_selection import cross_validate\n",
    "from sklearn.metrics import recall_score\n",
    "# https://github.com/caiocarneloz/masksemi\n",
    "from masksemi.masksemi import maskData\n",
    "# https://www.kaggle.com/semisupervised/semi-supervised-sklearn\n",
    "\n",
    "from helpers import Trainer, plot_conf_mat, plot_roc, plot_roc_avg, plot_pie_chart, stats_test\n",
    "\n",
    "random.seed(0)"
   ]
  },
  {
   "cell_type": "code",
   "execution_count": 2,
   "metadata": {},
   "outputs": [
    {
     "name": "stdout",
     "output_type": "stream",
     "text": [
      "Number of records: 101766 Number of features: 50\n"
     ]
    }
   ],
   "source": [
    "data = pd.read_csv('dataset_diabetes/diabetic_data.csv', sep=',')\n",
    "\n",
    "print('Number of records:', data.shape[0], 'Number of features:', data.shape[1])"
   ]
  },
  {
   "cell_type": "code",
   "execution_count": 3,
   "metadata": {},
   "outputs": [
    {
     "name": "stdout",
     "output_type": "stream",
     "text": [
      "+--------------------------+---------------------------+\n",
      "|         Feature          | Number of Unique Elements |\n",
      "+--------------------------+---------------------------+\n",
      "|       encounter_id       |           101766          |\n",
      "|       patient_nbr        |           71518           |\n",
      "|           race           |             6             |\n",
      "|          gender          |             3             |\n",
      "|           age            |             10            |\n",
      "|          weight          |             10            |\n",
      "|    admission_type_id     |             8             |\n",
      "| discharge_disposition_id |             26            |\n",
      "|   admission_source_id    |             17            |\n",
      "|     time_in_hospital     |             14            |\n",
      "|        payer_code        |             18            |\n",
      "|    medical_specialty     |             73            |\n",
      "|    num_lab_procedures    |            118            |\n",
      "|      num_procedures      |             7             |\n",
      "|     num_medications      |             75            |\n",
      "|    number_outpatient     |             39            |\n",
      "|     number_emergency     |             33            |\n",
      "|     number_inpatient     |             21            |\n",
      "|          diag_1          |            717            |\n",
      "|          diag_2          |            749            |\n",
      "|          diag_3          |            790            |\n",
      "|     number_diagnoses     |             16            |\n",
      "|      max_glu_serum       |             4             |\n",
      "|        A1Cresult         |             4             |\n",
      "|        metformin         |             4             |\n",
      "|       repaglinide        |             4             |\n",
      "|       nateglinide        |             4             |\n",
      "|      chlorpropamide      |             4             |\n",
      "|       glimepiride        |             4             |\n",
      "|      acetohexamide       |             2             |\n",
      "|        glipizide         |             4             |\n",
      "|        glyburide         |             4             |\n",
      "|       tolbutamide        |             2             |\n",
      "|       pioglitazone       |             4             |\n",
      "|      rosiglitazone       |             4             |\n",
      "|         acarbose         |             4             |\n",
      "|         miglitol         |             4             |\n",
      "|       troglitazone       |             2             |\n",
      "|        tolazamide        |             3             |\n",
      "|         examide          |             1             |\n",
      "|       citoglipton        |             1             |\n",
      "|         insulin          |             4             |\n",
      "|   glyburide-metformin    |             4             |\n",
      "|   glipizide-metformin    |             2             |\n",
      "| glimepiride-pioglitazone |             2             |\n",
      "| metformin-rosiglitazone  |             2             |\n",
      "|  metformin-pioglitazone  |             2             |\n",
      "|          change          |             2             |\n",
      "|       diabetesMed        |             2             |\n",
      "|        readmitted        |             3             |\n",
      "+--------------------------+---------------------------+\n"
     ]
    }
   ],
   "source": [
    "t = PrettyTable(['Feature', 'Number of Unique Elements'])\n",
    "# list the unique elements in columns\n",
    "for col in data.columns:\n",
    "    t.add_row([col, len(data[col].unique())])\n",
    "print(t)"
   ]
  },
  {
   "cell_type": "code",
   "execution_count": 4,
   "metadata": {},
   "outputs": [
    {
     "name": "stdout",
     "output_type": "stream",
     "text": [
      "Percentage (%) of Missing values in each feature\n",
      "--------------------------------------------\n",
      "race                  2.2\n",
      "gender                0.0\n",
      "weight               96.8\n",
      "payer_code           39.4\n",
      "medical_specialty    49.4\n",
      "dtype: float64\n",
      "--------------------------------------------\n",
      "--------------------------------------------\n"
     ]
    }
   ],
   "source": [
    "data.replace(to_replace=\"Unknown/Invalid\", value=np.nan, inplace=True)\n",
    "data.replace(to_replace=\"?\", value=np.nan, inplace=True)\n",
    "# print('---Replacing ? -> np.nan')\n",
    "# data = data[data['diag_1'].notna()]\n",
    "# data = data[data['diag_2'].notna()]\n",
    "# data = data[data['diag_3'].notna()]\n",
    "# data = data[data['race'].notna()]\n",
    "# print('---Removing rows where diag_1, diag_2, diag_3, race are missing')\n",
    "\n",
    "print('Percentage (%) of Missing values in each feature')\n",
    "print('--------------------------------------------')\n",
    "print(np.round(data.isnull().sum()[data.isnull().sum()>0] / len(data) * 100, 1))\n",
    "print('--------------------------------------------')\n",
    "print('--------------------------------------------')"
   ]
  },
  {
   "cell_type": "code",
   "execution_count": 5,
   "metadata": {},
   "outputs": [
    {
     "name": "stdout",
     "output_type": "stream",
     "text": [
      "---Removing columns weight, payer_code, encounter_id, patient_nbr\n"
     ]
    }
   ],
   "source": [
    "del data['weight'], data['payer_code'], data['encounter_id'], data['patient_nbr']\n",
    "print('---Removing columns weight, payer_code, encounter_id, patient_nbr')\n",
    "\n",
    "#     data['readmitted'].value_counts().plot.pie()\n",
    "#     data['gender'].value_counts().plot.pie()\n",
    "\n",
    "col_names = data.columns\n",
    "\n",
    "data.diag_1 = data.diag_1.astype(str)\n",
    "data.diag_2 = data.diag_2.astype(str)\n",
    "data.diag_3 = data.diag_3.astype(str)\n",
    "diag_dict = {}\n",
    "# Circulatory\n",
    "diag_dict[785] = 'Circulatory'\n",
    "for i in range(390, 459):\n",
    "    diag_dict[i] = 'Circulatory'\n",
    "# Respiratory\n",
    "diag_dict[786] = 'Respiratory'\n",
    "for i in range(460, 519):\n",
    "    diag_dict[i] = 'Respiratory'\n",
    "# Digestive\n",
    "diag_dict[787] = 'Digestive'\n",
    "for i in range(520, 579):\n",
    "    diag_dict[i] = 'Digestive'\n",
    "# Injury\n",
    "for i in range(800, 999):\n",
    "    diag_dict[i] = 'Injury'\n",
    "# Musculoskeletal\n",
    "for i in range(710, 739):\n",
    "    diag_dict[i] = 'Musculoskeletal'\n",
    "# Genitourinary\n",
    "for i in range(580, 629):\n",
    "    diag_dict[i] = 'Genitourinary'\n",
    "# Neoplasms\n",
    "diag_dict[780] = 'Neoplasms'\n",
    "diag_dict[781] = 'Neoplasms'\n",
    "diag_dict[782] = 'Neoplasms'\n",
    "diag_dict[784] = 'Neoplasms'\n",
    "for i in range(140, 239):\n",
    "    diag_dict[i] = 'Neoplasms'\n",
    "for i in range(790, 799):\n",
    "    diag_dict[i] = 'Neoplasms'\n",
    "for i in range(240, 279):\n",
    "    if i is 250:\n",
    "        continue\n",
    "    diag_dict[i] = 'Neoplasms'\n",
    "for i in range(680, 709):\n",
    "    diag_dict[i] = 'Neoplasms'\n",
    "# Diabetes\n",
    "for i in data.diag_1:\n",
    "    if i.startswith(\"250\"):\n",
    "        diag_dict[i] = 'Diabetes'\n",
    "for i in data.diag_1:\n",
    "    if i not in diag_dict:\n",
    "        diag_dict[i] = 'Other'\n",
    "\n",
    "final_dict = {}\n",
    "for k, v in diag_dict.items():\n",
    "    final_dict[str(k)] = v\n",
    "\n",
    "final_dict = pd.Series(final_dict)\n",
    "data.diag_1 = data.diag_1.map(final_dict)\n",
    "data.diag_2 = data.diag_2.map(final_dict)\n",
    "data.diag_3 = data.diag_3.map(final_dict)\n",
    "# print(len(data.diag_1.unique()))\n",
    "# print(len(data.diag_2.unique()))\n",
    "# print(len(data.diag_3.unique()))"
   ]
  },
  {
   "cell_type": "code",
   "execution_count": 6,
   "metadata": {},
   "outputs": [
    {
     "name": "stdout",
     "output_type": "stream",
     "text": [
      "---Transform nominal data to categorical\n"
     ]
    }
   ],
   "source": [
    "# label encoding for only columns with categorical data\n",
    "data.replace(to_replace=np.nan, value='?', inplace=True)\n",
    "for col in data.columns:\n",
    "    if col not in ['time_in_hospital', \n",
    "                   'num_lab_procedures', \n",
    "                   'num_procedures', \n",
    "                   'num_medications', \n",
    "                   'number_outpatient', \n",
    "                   'number_emergency', \n",
    "                   'number_inpatient', \n",
    "                   'number_diagnoses']:\n",
    "        unique_elem = sorted(data[col].unique())\n",
    "        if '?' in unique_elem:\n",
    "            unique_elem = unique_elem[1:]\n",
    "        data[col].replace(unique_elem, list(range(len(unique_elem))), inplace=True)\n",
    "data.replace(to_replace='?', value=np.nan, inplace=True)\n",
    "print('---Transform nominal data to categorical')"
   ]
  },
  {
   "cell_type": "code",
   "execution_count": null,
   "metadata": {},
   "outputs": [],
   "source": [
    "imputed_data = IterativeImputer(max_iter=100, random_state=0, initial_strategy='most_frequent').fit_transform(data.to_numpy())\n",
    "# imputed_data = SimpleImputer(strategy='most_frequent').fit_transform(data.to_numpy())\n",
    "data = pd.DataFrame.from_records(imputed_data)\n",
    "data.columns = col_names\n",
    "print('---Imputing missing values')"
   ]
  },
  {
   "cell_type": "code",
   "execution_count": null,
   "metadata": {},
   "outputs": [],
   "source": [
    "ids = data.columns[:-1]\n",
    "data[ids] = (data[ids] - data[ids].mean()) / (data[ids].std() + 1e-4)\n",
    "print('---Standarizing data')"
   ]
  }
 ],
 "metadata": {
  "kernelspec": {
   "display_name": "Python 3",
   "language": "python",
   "name": "python3"
  },
  "language_info": {
   "codemirror_mode": {
    "name": "ipython",
    "version": 3
   },
   "file_extension": ".py",
   "mimetype": "text/x-python",
   "name": "python",
   "nbconvert_exporter": "python",
   "pygments_lexer": "ipython3",
   "version": "3.6.9"
  }
 },
 "nbformat": 4,
 "nbformat_minor": 2
}
