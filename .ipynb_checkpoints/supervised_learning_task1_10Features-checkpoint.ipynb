{
 "cells": [
  {
   "cell_type": "code",
   "execution_count": null,
   "metadata": {},
   "outputs": [],
   "source": [
    "import pandas as pd\n",
    "import numpy as np\n",
    "import matplotlib.pyplot as plt\n",
    "import random\n",
    "import copy\n",
    "\n",
    "from itertools import product\n",
    "from sklearn.tree import DecisionTreeClassifier # Import Decision Tree Classifier\n",
    "from sklearn.naive_bayes import GaussianNB # Import Naive Bayes Classifier\n",
    "from sklearn.svm import SVC, LinearSVC # Import SVM Classifier\n",
    "from sklearn.neighbors import KNeighborsClassifier # Import KNN Classifier\n",
    "from sklearn.multiclass import OneVsOneClassifier\n",
    "from sklearn.ensemble import VotingClassifier\n",
    "from sklearn.ensemble import RandomForestClassifier, ExtraTreesClassifier\n",
    "from sklearn.preprocessing import label_binarize\n",
    "from sklearn.model_selection import train_test_split # Import train_test_split function\n",
    "from sklearn import metrics #Import scikit-learn metrics module for accuracy calculation\n",
    "from sklearn import tree\n",
    "from pprint import pprint\n",
    "from imblearn.over_sampling import SMOTE, ADASYN\n",
    "from imblearn.under_sampling import ClusterCentroids\n",
    "from imblearn.combine import SMOTEENN, SMOTETomek\n",
    "from sklearn.model_selection import KFold, cross_val_score, StratifiedKFold\n",
    "from prettytable import PrettyTable\n",
    "from scipy import stats\n",
    "from matplotlib.pyplot import pie, axis, show\n",
    "from sklearn.experimental import enable_iterative_imputer\n",
    "from sklearn.impute import IterativeImputer, SimpleImputer\n",
    "from sklearn.feature_selection import VarianceThreshold, SelectKBest, mutual_info_classif, SelectFromModel, RFE\n",
    "from sklearn.svm import SVR\n",
    "from sklearn.ensemble import GradientBoostingClassifier, AdaBoostClassifier\n",
    "from sklearn.model_selection import cross_validate\n",
    "from sklearn.metrics import recall_score\n",
    "\n",
    "from helpers import read_and_process_data\n",
    "\n",
    "random.seed(0)"
   ]
  },
  {
   "cell_type": "code",
   "execution_count": null,
   "metadata": {
    "scrolled": false
   },
   "outputs": [],
   "source": [
    "data = read_and_process_data('dataset_diabetes/diabetic_data.csv')\n",
    "data.head(5)"
   ]
  },
  {
   "cell_type": "code",
   "execution_count": null,
   "metadata": {},
   "outputs": [],
   "source": [
    "features = data.columns[:-1]\n",
    "X = np.array(data[features]) # Features\n",
    "y = np.array(data[data.columns[-1]]).astype(int) # Target variable\n",
    "print(\"Input data shape\", X.shape, \"Output data shape\", y.shape)"
   ]
  },
  {
   "cell_type": "code",
   "execution_count": null,
   "metadata": {},
   "outputs": [],
   "source": [
    "kfold = StratifiedKFold(10, random_state=False, shuffle=True)\n",
    "\n",
    "folds = kfold.split(X, y)\n",
    "folds = [(train, test) for train, test in folds]"
   ]
  },
  {
   "cell_type": "code",
   "execution_count": null,
   "metadata": {},
   "outputs": [],
   "source": [
    "estimator = SVR(kernel=\"linear\")\n",
    "selector = RFE(estimator, n_features_to_select=10, step=1)\n",
    "selected = selector.fit(X[folds[0][1]], y[folds[0][1]])\n",
    "print(selected.support_)\n",
    "print(selected.ranking_)"
   ]
  },
  {
   "cell_type": "code",
   "execution_count": null,
   "metadata": {},
   "outputs": [],
   "source": [
    "selected_feat = []\n",
    "for tak, (i, col) in zip(selected.support_, enumerate(data.columns[:-1])):\n",
    "    if tak:\n",
    "        print(col, i)\n",
    "        selected_feat.append((col, i))"
   ]
  },
  {
   "cell_type": "code",
   "execution_count": null,
   "metadata": {},
   "outputs": [],
   "source": [
    "X_rfe = selector.transform(X)\n",
    "X_rfe.shape"
   ]
  },
  {
   "cell_type": "code",
   "execution_count": null,
   "metadata": {},
   "outputs": [],
   "source": [
    "# X_cs, y_cs = SMOTEENN(random_state=0).fit_resample(X_rfe, y)\n",
    "\n",
    "X_cs, y_cs = ADASYN(sampling_strateg='not majority', n_neighbors=7, n_jobs=-1, random_state=0).fit_resample(X_rfe, y)\n",
    "X_cs, y_cs = SMOTEENN(random_state=0).fit_resample(X_cs, y_cs)\n",
    "\n",
    "print(X_cs.shape, y_cs.shape)"
   ]
  },
  {
   "cell_type": "code",
   "execution_count": null,
   "metadata": {},
   "outputs": [],
   "source": [
    "np.save('npy_data_2/X_combinedSampling_10Features_task1.npy', X_cs)\n",
    "np.save('npy_data_2/y_combinedSampling_10Features_task1.npy', y_cs)\n",
    "np.save('npy_data_2/selected_features_10_task1.npy', selected_feat)"
   ]
  }
 ],
 "metadata": {
  "kernelspec": {
   "display_name": "Python 3",
   "language": "python",
   "name": "python3"
  },
  "language_info": {
   "codemirror_mode": {
    "name": "ipython",
    "version": 3
   },
   "file_extension": ".py",
   "mimetype": "text/x-python",
   "name": "python",
   "nbconvert_exporter": "python",
   "pygments_lexer": "ipython3",
   "version": "3.6.9"
  }
 },
 "nbformat": 4,
 "nbformat_minor": 2
}
