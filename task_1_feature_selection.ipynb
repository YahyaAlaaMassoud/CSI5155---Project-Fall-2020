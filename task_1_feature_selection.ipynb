{
 "cells": [
  {
   "cell_type": "code",
   "execution_count": 1,
   "metadata": {},
   "outputs": [],
   "source": [
    "import pandas as pd\n",
    "import numpy as np\n",
    "import matplotlib.pyplot as plt\n",
    "import random\n",
    "import copy\n",
    "\n",
    "from itertools import product\n",
    "from sklearn.tree import DecisionTreeClassifier # Import Decision Tree Classifier\n",
    "from sklearn.naive_bayes import GaussianNB # Import Naive Bayes Classifier\n",
    "from sklearn.svm import SVC, LinearSVC # Import SVM Classifier\n",
    "from sklearn.neighbors import KNeighborsClassifier # Import KNN Classifier\n",
    "from sklearn.multiclass import OneVsOneClassifier\n",
    "from sklearn.ensemble import VotingClassifier\n",
    "from sklearn.ensemble import RandomForestClassifier, ExtraTreesClassifier\n",
    "from sklearn.preprocessing import label_binarize\n",
    "from sklearn.model_selection import train_test_split # Import train_test_split function\n",
    "from sklearn import metrics #Import scikit-learn metrics module for accuracy calculation\n",
    "from sklearn import tree\n",
    "from pprint import pprint\n",
    "from imblearn.over_sampling import SMOTE, ADASYN\n",
    "from imblearn.under_sampling import ClusterCentroids\n",
    "from imblearn.combine import SMOTEENN, SMOTETomek\n",
    "from sklearn.model_selection import KFold, cross_val_score, StratifiedKFold\n",
    "from prettytable import PrettyTable\n",
    "from scipy import stats\n",
    "from matplotlib.pyplot import pie, axis, show\n",
    "from sklearn.experimental import enable_iterative_imputer\n",
    "from sklearn.impute import IterativeImputer, SimpleImputer\n",
    "from sklearn.feature_selection import VarianceThreshold, SelectKBest, mutual_info_classif, SelectFromModel, RFE\n",
    "from sklearn.svm import SVR\n",
    "from sklearn.ensemble import GradientBoostingClassifier, AdaBoostClassifier\n",
    "from sklearn.model_selection import cross_validate\n",
    "from sklearn.metrics import recall_score\n",
    "\n",
    "from helpers import train_model, plot_conf_mat\n",
    "\n",
    "random.seed(0)"
   ]
  },
  {
   "cell_type": "code",
   "execution_count": 2,
   "metadata": {},
   "outputs": [
    {
     "name": "stdout",
     "output_type": "stream",
     "text": [
      "X_cs_10.shape, y_cs_10.shape (14517, 10) (14517,)\n",
      "X_cs_15.shape, y_cs_15.shape (27209, 15) (27209,)\n",
      "X_cs_25.shape, y_cs_25.shape (64753, 25) (64753,)\n",
      "X_cs_all.shape, y_cs_all.shape (73171, 45) (73171,)\n"
     ]
    }
   ],
   "source": [
    "X_cs_10 = np.load('npy_data/X_combinedSampling_10Features_task1.npy')\n",
    "y_cs_10 = np.load('npy_data/y_combinedSampling_10Features_task1.npy')\n",
    "print('X_cs_10.shape, y_cs_10.shape', X_cs_10.shape, y_cs_10.shape)\n",
    "\n",
    "X_cs_15 = np.load('npy_data/X_combinedSampling_15Features_task1.npy')\n",
    "y_cs_15 = np.load('npy_data/y_combinedSampling_15Features_task1.npy')\n",
    "print('X_cs_15.shape, y_cs_15.shape', X_cs_15.shape, y_cs_15.shape)\n",
    "\n",
    "X_cs_25 = np.load('npy_data/X_combinedSampling_25Features_task1.npy')\n",
    "y_cs_25 = np.load('npy_data/y_combinedSampling_25Features_task1.npy')\n",
    "print('X_cs_25.shape, y_cs_25.shape', X_cs_25.shape, y_cs_25.shape)\n",
    "\n",
    "X_cs_all = np.load('npy_data/X_combinedSampling_AllFeatures_task1.npy')\n",
    "y_cs_all = np.load('npy_data/y_combinedSampling_AllFeatures_task1.npy')\n",
    "print('X_cs_all.shape, y_cs_all.shape', X_cs_all.shape, y_cs_all.shape)"
   ]
  },
  {
   "cell_type": "code",
   "execution_count": 3,
   "metadata": {},
   "outputs": [],
   "source": [
    "kfold = StratifiedKFold(10, random_state=False, shuffle=True)\n",
    "\n",
    "folds_10 = kfold.split(X_cs_10, y_cs_10)\n",
    "folds_10 = [(train, test) for train, test in folds_10]\n",
    "\n",
    "folds_15 = kfold.split(X_cs_15, y_cs_15)\n",
    "folds_15 = [(train, test) for train, test in folds_15]\n",
    "\n",
    "folds_25 = kfold.split(X_cs_25, y_cs_25)\n",
    "folds_25 = [(train, test) for train, test in folds_25]\n",
    "\n",
    "folds_all = kfold.split(X_cs_all, y_cs_all)\n",
    "folds_all = [(train, test) for train, test in folds_all]"
   ]
  },
  {
   "cell_type": "code",
   "execution_count": 4,
   "metadata": {},
   "outputs": [],
   "source": [
    "data_classes_10  = []\n",
    "data_classes_15  = []\n",
    "data_classes_25  = []\n",
    "data_classes_all = []\n",
    "\n",
    "for i in range(3):\n",
    "    data_classes_10.append(len(y_cs_10[y_cs_10==i]))\n",
    "for i in range(3):\n",
    "    data_classes_15.append(len(y_cs_15[y_cs_15==i]))\n",
    "for i in range(3):\n",
    "    data_classes_25.append(len(y_cs_25[y_cs_25==i]))\n",
    "for i in range(3):\n",
    "    data_classes_all.append(len(y_cs_all[y_cs_all==i]))"
   ]
  },
  {
   "cell_type": "code",
   "execution_count": 5,
   "metadata": {
    "scrolled": false
   },
   "outputs": [
    {
     "name": "stdout",
     "output_type": "stream",
     "text": [
      "----------------10 Selected Features----------------\n",
      "+---------------+-----------------------+\n",
      "|    XGBoost    | Avg. Accross 10 Folds |\n",
      "+---------------+-----------------------+\n",
      "| Training Time |   1.7658999999999998  |\n",
      "|    Accuracy   |   0.9268446953084508  |\n",
      "+---------------+-----------------------+\n",
      "+----------------+--------------------+--------------------+--------------------+\n",
      "| Metric / Class |     Class - No     | Class - > 30 days  | Class - < 30 days  |\n",
      "+----------------+--------------------+--------------------+--------------------+\n",
      "|   Percision    | 0.8460495891984031 | 0.9374682204453597 | 0.9708360772266351 |\n",
      "|     Recall     | 0.8755797434048042 | 0.9282102493979492 | 0.9627631075392269 |\n",
      "|  Specificity   | 0.9580696257615319 | 0.9343338444035926 | 0.9888439735407767 |\n",
      "|    F1-score    | 0.8604708370347849 | 0.9327685924832227 | 0.9666799563484471 |\n",
      "+----------------+--------------------+--------------------+--------------------+\n",
      "+-----------+--------+-----------+-----------+\n",
      "|           |   No   | > 30 days | < 30 days |\n",
      "+-----------+--------+-----------+-----------+\n",
      "|     No    | 2646.0 |   476.0   |    6.0    |\n",
      "| > 30 days | 319.0  |   6930.0  |   144.0   |\n",
      "| < 30 days |  57.0  |    60.0   |   3879.0  |\n",
      "+-----------+--------+-----------+-----------+\n"
     ]
    },
    {
     "data": {
      "image/png": "[encoded data removed]",
      "text/plain": [
       "<Figure size 432x288 with 2 Axes>"
      ]
     },
     "metadata": {
      "needs_background": "light"
     },
     "output_type": "display_data"
    },
    {
     "name": "stdout",
     "output_type": "stream",
     "text": [
      "----------------------------------------------------\n",
      "----------------15 Selected Features----------------\n",
      "+---------------+-----------------------+\n",
      "|    XGBoost    | Avg. Accross 10 Folds |\n",
      "+---------------+-----------------------+\n",
      "| Training Time |         5.0927        |\n",
      "|    Accuracy   |   0.7829762117084982  |\n",
      "+---------------+-----------------------+\n",
      "+----------------+--------------------+--------------------+--------------------+\n",
      "| Metric / Class |     Class - No     | Class - > 30 days  | Class - < 30 days  |\n",
      "+----------------+--------------------+--------------------+--------------------+\n",
      "|   Percision    | 0.7942628522361683 | 0.7051955164013831 | 0.8204984805638649 |\n",
      "|     Recall     | 0.8369529130549228 | 0.5876836714154721 | 0.8793069555811004 |\n",
      "|  Specificity   | 0.8419313850063531 | 0.9096397091156418 | 0.9137881455731321 |\n",
      "|    F1-score    | 0.8150052243600419 | 0.6410047251744314 | 0.8488469244193544 |\n",
      "+----------------+--------------------+--------------------+--------------------+\n",
      "+-----------+--------+-----------+-----------+\n",
      "|           |   No   | > 30 days | < 30 days |\n",
      "+-----------+--------+-----------+-----------+\n",
      "|     No    | 9599.0 |   2142.0  |   346.0   |\n",
      "| > 30 days | 1127.0 |   4303.0  |   670.0   |\n",
      "| < 30 days | 743.0  |   877.0   |   7402.0  |\n",
      "+-----------+--------+-----------+-----------+\n"
     ]
    },
    {
     "data": {
      "image/png": "[encoded data removed]",
      "text/plain": [
       "<Figure size 432x288 with 2 Axes>"
      ]
     },
     "metadata": {
      "needs_background": "light"
     },
     "output_type": "display_data"
    },
    {
     "name": "stdout",
     "output_type": "stream",
     "text": [
      "----------------------------------------------------\n",
      "----------------25 Selected Features----------------\n",
      "+---------------+-----------------------+\n",
      "|    XGBoost    | Avg. Accross 10 Folds |\n",
      "+---------------+-----------------------+\n",
      "| Training Time |   25.715600000000002  |\n",
      "|    Accuracy   |   0.7116427247860231  |\n",
      "+---------------+-----------------------+\n",
      "+----------------+--------------------+---------------------+--------------------+\n",
      "| Metric / Class |     Class - No     |  Class - > 30 days  | Class - < 30 days  |\n",
      "+----------------+--------------------+---------------------+--------------------+\n",
      "|   Percision    | 0.7303496675311969 |  0.5497406627299454 | 0.7186461894445463 |\n",
      "|     Recall     | 0.9214744289653686 | 0.21681599877050756 | 0.6611557015647964 |\n",
      "|  Specificity   | 0.4949939077181954 |  0.9449085040624867 | 0.9484221597963958 |\n",
      "|    F1-score    | 0.8148477174589287 | 0.31083783760436556 | 0.6886084491001025 |\n",
      "+----------------+--------------------+---------------------+--------------------+\n",
      "+-----------+---------+-----------+-----------+\n",
      "|           |    No   | > 30 days | < 30 days |\n",
      "+-----------+---------+-----------+-----------+\n",
      "|     No    | 35650.0 |  10582.0  |   2581.0  |\n",
      "| > 30 days |  1660.0 |   3319.0  |   1064.0  |\n",
      "| < 30 days |  1378.0 |   1407.0  |   7112.0  |\n",
      "+-----------+---------+-----------+-----------+\n"
     ]
    },
    {
     "data": {
      "image/png": "[encoded data removed]",
      "text/plain": [
       "<Figure size 432x288 with 2 Axes>"
      ]
     },
     "metadata": {
      "needs_background": "light"
     },
     "output_type": "display_data"
    },
    {
     "name": "stdout",
     "output_type": "stream",
     "text": [
      "----------------------------------------------------\n",
      "---------------All Selected Features----------------\n",
      "+---------------+-----------------------+\n",
      "|    XGBoost    | Avg. Accross 10 Folds |\n",
      "+---------------+-----------------------+\n",
      "| Training Time |   56.938900000000004  |\n",
      "|    Accuracy   |   0.7133290009678817  |\n",
      "+---------------+-----------------------+\n",
      "+----------------+---------------------+---------------------+--------------------+\n",
      "| Metric / Class |      Class - No     |  Class - > 30 days  | Class - < 30 days  |\n",
      "+----------------+---------------------+---------------------+--------------------+\n",
      "|   Percision    |  0.7285180112839515 |  0.5310583814059805 | 0.7154249521067448 |\n",
      "|     Recall     |  0.9446930236545417 |  0.1590945755192579 |  0.57169841009222  |\n",
      "|  Specificity   | 0.37879738639358695 |  0.9571590501349438 | 0.9665862948339479 |\n",
      "|    F1-score    |  0.8226367396749449 | 0.24477425750287388 | 0.6353384720117788 |\n",
      "+----------------+---------------------+---------------------+--------------------+\n",
      "+-----------+---------+-----------+-----------+\n",
      "|           |    No   | > 30 days | < 30 days |\n",
      "+-----------+---------+-----------+-----------+\n",
      "|     No    | 44120.0 |  13417.0  |   3025.0  |\n",
      "| > 30 days |  1416.0 |   2721.0  |   986.0   |\n",
      "| < 30 days |  1167.0 |   965.0   |   5354.0  |\n",
      "+-----------+---------+-----------+-----------+\n"
     ]
    },
    {
     "data": {
      "image/png": "[encoded data removed]",
      "text/plain": [
       "<Figure size 432x288 with 2 Axes>"
      ]
     },
     "metadata": {
      "needs_background": "light"
     },
     "output_type": "display_data"
    }
   ],
   "source": [
    "tables, xgboost_metrics_10 = train_model(model_name='XGBoost', \n",
    "                                         X=X_cs_10, y=y_cs_10, folds=folds_10, \n",
    "                                         data_classes=data_classes_10)\n",
    "table1, table2, conf_mat, conf_mat_norm = tables\n",
    "print('----------------10 Selected Features----------------')\n",
    "print(table1)\n",
    "print(table2)\n",
    "print(conf_mat)\n",
    "plot_conf_mat(conf_mat_norm, '10 selected')\n",
    "\n",
    "print('----------------------------------------------------')\n",
    "\n",
    "tables, xgboost_metrics_15 = train_model(model_name='XGBoost', \n",
    "                                         X=X_cs_15, y=y_cs_15, folds=folds_15, \n",
    "                                         data_classes=data_classes_15)\n",
    "table1, table2, conf_mat, conf_mat_norm = tables\n",
    "print('----------------15 Selected Features----------------')\n",
    "print(table1)\n",
    "print(table2)\n",
    "print(conf_mat)\n",
    "plot_conf_mat(conf_mat_norm, '15 selected')\n",
    "\n",
    "print('----------------------------------------------------')\n",
    "\n",
    "tables, xgboost_metrics_25 = train_model(model_name='XGBoost', \n",
    "                                         X=X_cs_25, y=y_cs_25, folds=folds_25, \n",
    "                                         data_classes=data_classes_25)\n",
    "table1, table2, conf_mat, conf_mat_norm = tables\n",
    "print('----------------25 Selected Features----------------')\n",
    "print(table1)\n",
    "print(table2)\n",
    "print(conf_mat)\n",
    "plot_conf_mat(conf_mat_norm, '25 selected')\n",
    "\n",
    "print('----------------------------------------------------')\n",
    "\n",
    "tables, xgboost_metrics_all = train_model(model_name='XGBoost', \n",
    "                                          X=X_cs_all, y=y_cs_all, folds=folds_all, \n",
    "                                          data_classes=data_classes_all)\n",
    "table1, table2, conf_mat, conf_mat_norm = tables\n",
    "print('---------------All Selected Features----------------')\n",
    "print(table1)\n",
    "print(table2)\n",
    "print(conf_mat)\n",
    "plot_conf_mat(conf_mat_norm, 'All selected')"
   ]
  },
  {
   "cell_type": "code",
   "execution_count": 6,
   "metadata": {
    "scrolled": false
   },
   "outputs": [
    {
     "name": "stdout",
     "output_type": "stream",
     "text": [
      "----------------10 Selected Features----------------\n",
      "+---------------+-----------------------+\n",
      "|    AdaBoost   | Avg. Accross 10 Folds |\n",
      "+---------------+-----------------------+\n",
      "| Training Time |         0.2133        |\n",
      "|    Accuracy   |   0.762209258172857   |\n",
      "+---------------+-----------------------+\n",
      "+----------------+--------------------+--------------------+--------------------+\n",
      "| Metric / Class |     Class - No     | Class - > 30 days  | Class - < 30 days  |\n",
      "+----------------+--------------------+--------------------+--------------------+\n",
      "|   Percision    |  0.71735547441378  | 0.731950180489781  | 0.923410795319558  |\n",
      "|     Recall     | 0.732619718925535  | 0.8711473238799703 | 0.5825308939175092 |\n",
      "|  Specificity   | 0.924053808604836  | 0.6617528305780972 | 0.9815016482436926 |\n",
      "|    F1-score    | 0.7247401815917249 | 0.795445947500125  | 0.7140662928192533 |\n",
      "+----------------+--------------------+--------------------+--------------------+\n",
      "+-----------+--------+-----------+-----------+\n",
      "|           |   No   | > 30 days | < 30 days |\n",
      "+-----------+--------+-----------+-----------+\n",
      "|     No    | 2214.0 |   830.0   |    43.0   |\n",
      "| > 30 days | 746.0  |   6504.0  |   1639.0  |\n",
      "| < 30 days |  62.0  |   132.0   |   2347.0  |\n",
      "+-----------+--------+-----------+-----------+\n"
     ]
    },
    {
     "data": {
      "image/png": "[encoded data removed]",
      "text/plain": [
       "<Figure size 432x288 with 2 Axes>"
      ]
     },
     "metadata": {
      "needs_background": "light"
     },
     "output_type": "display_data"
    },
    {
     "name": "stdout",
     "output_type": "stream",
     "text": [
      "----------------------------------------------------\n",
      "----------------15 Selected Features----------------\n",
      "+---------------+-----------------------+\n",
      "|    AdaBoost   | Avg. Accross 10 Folds |\n",
      "+---------------+-----------------------+\n",
      "| Training Time |  0.49539999999999995  |\n",
      "|    Accuracy   |   0.7189898691008928  |\n",
      "+---------------+-----------------------+\n",
      "+----------------+--------------------+--------------------+--------------------+\n",
      "| Metric / Class |     Class - No     | Class - > 30 days  | Class - < 30 days  |\n",
      "+----------------+--------------------+--------------------+--------------------+\n",
      "|   Percision    | 0.7525174701934887 | 0.597651752047326  | 0.7660787049406583 |\n",
      "|     Recall     | 0.727964520845791  | 0.545897352746032  | 0.8573291043068849 |\n",
      "|  Specificity   | 0.8254129606099111 | 0.8645858749115567 | 0.8826566303941661 |\n",
      "|    F1-score    | 0.7398572751909921 | 0.5703024069103539 | 0.8090937290078323 |\n",
      "+----------------+--------------------+--------------------+--------------------+\n",
      "+-----------+--------+-----------+-----------+\n",
      "|           |   No   | > 30 days | < 30 days |\n",
      "+-----------+--------+-----------+-----------+\n",
      "|     No    | 8349.0 |   2282.0  |   466.0   |\n",
      "| > 30 days | 1958.0 |   3997.0  |   735.0   |\n",
      "| < 30 days | 1162.0 |   1043.0  |   7217.0  |\n",
      "+-----------+--------+-----------+-----------+\n"
     ]
    },
    {
     "data": {
      "image/png": "[encoded data removed]",
      "text/plain": [
       "<Figure size 432x288 with 2 Axes>"
      ]
     },
     "metadata": {
      "needs_background": "light"
     },
     "output_type": "display_data"
    },
    {
     "name": "stdout",
     "output_type": "stream",
     "text": [
      "----------------------------------------------------\n",
      "----------------25 Selected Features----------------\n",
      "+---------------+-----------------------+\n",
      "|    AdaBoost   | Avg. Accross 10 Folds |\n",
      "+---------------+-----------------------+\n",
      "| Training Time |   2.0784000000000002  |\n",
      "|    Accuracy   |   0.6784704891956281  |\n",
      "+---------------+-----------------------+\n",
      "+----------------+---------------------+---------------------+--------------------+\n",
      "| Metric / Class |      Class - No     |  Class - > 30 days  | Class - < 30 days  |\n",
      "+----------------+---------------------+---------------------+--------------------+\n",
      "|   Percision    |  0.6972407950070315 | 0.49585469158747425 | 0.6772945131893074 |\n",
      "|     Recall     |  0.9128671729225196 | 0.16710258150723822 | 0.5631735973026715 |\n",
      "|  Specificity   | 0.41154920882764123 |  0.9475778425136043 | 0.9464777462218654 |\n",
      "|    F1-score    |  0.7905921629586885 | 0.24965554151514105 | 0.6147706608474575 |\n",
      "+----------------+---------------------+---------------------+--------------------+\n",
      "+-----------+---------+-----------+-----------+\n",
      "|           |    No   | > 30 days | < 30 days |\n",
      "+-----------+---------+-----------+-----------+\n",
      "|     No    | 35317.0 |  11474.0  |   3864.0  |\n",
      "| > 30 days |  1757.0 |   2558.0  |   835.0   |\n",
      "| < 30 days |  1614.0 |   1276.0  |   6058.0  |\n",
      "+-----------+---------+-----------+-----------+\n"
     ]
    },
    {
     "data": {
      "image/png": "[encoded data removed]",
      "text/plain": [
       "<Figure size 432x288 with 2 Axes>"
      ]
     },
     "metadata": {
      "needs_background": "light"
     },
     "output_type": "display_data"
    },
    {
     "name": "stdout",
     "output_type": "stream",
     "text": [
      "----------------------------------------------------\n",
      "---------------All Selected Features----------------\n",
      "+---------------+-----------------------+\n",
      "|    AdaBoost   | Avg. Accross 10 Folds |\n",
      "+---------------+-----------------------+\n",
      "| Training Time |   4.316599999999999   |\n",
      "|    Accuracy   |   0.6871984184905164  |\n",
      "+---------------+-----------------------+\n",
      "+----------------+---------------------+---------------------+--------------------+\n",
      "| Metric / Class |      Class - No     |  Class - > 30 days  | Class - < 30 days  |\n",
      "+----------------+---------------------+---------------------+--------------------+\n",
      "|   Percision    |  0.7011122111967947 |  0.4830272374483953 | 0.6688860612589971 |\n",
      "|     Recall     |  0.9450999309145638 | 0.10366619842026654 | 0.4667338249915624 |\n",
      "|  Specificity   | 0.28906633131361936 |  0.9660410946594403 | 0.9660377669010518 |\n",
      "|    F1-score    |  0.8050206963477894 | 0.17065038508268288 | 0.5496145522856821 |\n",
      "+----------------+---------------------+---------------------+--------------------+\n",
      "+-----------+---------+-----------+-----------+\n",
      "|           |    No   | > 30 days | < 30 days |\n",
      "+-----------+---------+-----------+-----------+\n",
      "|     No    | 44139.0 |  14435.0  |   4382.0  |\n",
      "| > 30 days |  1292.0 |   1773.0  |   612.0   |\n",
      "| < 30 days |  1272.0 |   895.0   |   4371.0  |\n",
      "+-----------+---------+-----------+-----------+\n"
     ]
    },
    {
     "data": {
      "image/png": "[encoded data removed]",
      "text/plain": [
       "<Figure size 432x288 with 2 Axes>"
      ]
     },
     "metadata": {
      "needs_background": "light"
     },
     "output_type": "display_data"
    }
   ],
   "source": [
    "tables, adaboost_metrics_10 = train_model(model_name='AdaBoost', \n",
    "                                         X=X_cs_10, y=y_cs_10, folds=folds_10, \n",
    "                                         data_classes=data_classes_10)\n",
    "table1, table2, conf_mat, conf_mat_norm = tables\n",
    "print('----------------10 Selected Features----------------')\n",
    "print(table1)\n",
    "print(table2)\n",
    "print(conf_mat)\n",
    "plot_conf_mat(conf_mat_norm, '10 selected')\n",
    "\n",
    "print('----------------------------------------------------')\n",
    "\n",
    "tables, adaboost_metrics_15 = train_model(model_name='AdaBoost', \n",
    "                                         X=X_cs_15, y=y_cs_15, folds=folds_15, \n",
    "                                         data_classes=data_classes_15)\n",
    "table1, table2, conf_mat, conf_mat_norm = tables\n",
    "print('----------------15 Selected Features----------------')\n",
    "print(table1)\n",
    "print(table2)\n",
    "print(conf_mat)\n",
    "plot_conf_mat(conf_mat_norm, '15 selected')\n",
    "\n",
    "print('----------------------------------------------------')\n",
    "\n",
    "tables, adaboost_metrics_25 = train_model(model_name='AdaBoost', \n",
    "                                         X=X_cs_25, y=y_cs_25, folds=folds_25, \n",
    "                                         data_classes=data_classes_25)\n",
    "table1, table2, conf_mat, conf_mat_norm = tables\n",
    "print('----------------25 Selected Features----------------')\n",
    "print(table1)\n",
    "print(table2)\n",
    "print(conf_mat)\n",
    "plot_conf_mat(conf_mat_norm, '25 selected')\n",
    "\n",
    "print('----------------------------------------------------')\n",
    "\n",
    "tables, adaboost_metrics_all = train_model(model_name='AdaBoost', \n",
    "                                          X=X_cs_all, y=y_cs_all, folds=folds_all, \n",
    "                                          data_classes=data_classes_all)\n",
    "table1, table2, conf_mat, conf_mat_norm = tables\n",
    "print('---------------All Selected Features----------------')\n",
    "print(table1)\n",
    "print(table2)\n",
    "print(conf_mat)\n",
    "plot_conf_mat(conf_mat_norm, 'All selected')"
   ]
  },
  {
   "cell_type": "code",
   "execution_count": 7,
   "metadata": {
    "scrolled": false
   },
   "outputs": [
    {
     "name": "stdout",
     "output_type": "stream",
     "text": [
      "----------------10 Selected Features----------------\n",
      "+---------------+-----------------------+\n",
      "|     XTrees    | Avg. Accross 10 Folds |\n",
      "+---------------+-----------------------+\n",
      "| Training Time |         0.3931        |\n",
      "|    Accuracy   |   0.9911828168281398  |\n",
      "+---------------+-----------------------+\n",
      "+----------------+--------------------+--------------------+--------------------+\n",
      "| Metric / Class |     Class - No     | Class - > 30 days  | Class - < 30 days  |\n",
      "+----------------+--------------------+--------------------+--------------------+\n",
      "|   Percision    | 0.9736405367661701 | 0.9946180403719611 | 0.9982667034053586 |\n",
      "|     Recall     | 0.9864336764802308 | 0.9890159386428646 | 0.9987586879498289 |\n",
      "|  Specificity   | 0.9929534188519318 | 0.9943266389636222 | 0.9993325158820833 |\n",
      "|    F1-score    | 0.9799637064852613 | 0.9918028166607721 | 0.998510853037517  |\n",
      "+----------------+--------------------+--------------------+--------------------+\n",
      "+-----------+--------+-----------+-----------+\n",
      "|           |   No   | > 30 days | < 30 days |\n",
      "+-----------+--------+-----------+-----------+\n",
      "|     No    | 2981.0 |    78.0   |    3.0    |\n",
      "| > 30 days |  38.0  |   7384.0  |    2.0    |\n",
      "| < 30 days |  3.0   |    4.0    |   4024.0  |\n",
      "+-----------+--------+-----------+-----------+\n"
     ]
    },
    {
     "data": {
      "image/png": "[encoded data removed]",
      "text/plain": [
       "<Figure size 432x288 with 2 Axes>"
      ]
     },
     "metadata": {
      "needs_background": "light"
     },
     "output_type": "display_data"
    },
    {
     "name": "stdout",
     "output_type": "stream",
     "text": [
      "----------------------------------------------------\n",
      "----------------15 Selected Features----------------\n",
      "+---------------+-----------------------+\n",
      "|     XTrees    | Avg. Accross 10 Folds |\n",
      "+---------------+-----------------------+\n",
      "| Training Time |   1.1259000000000001  |\n",
      "|    Accuracy   |   0.9701936058326309  |\n",
      "+---------------+-----------------------+\n",
      "+----------------+--------------------+--------------------+--------------------+\n",
      "| Metric / Class |     Class - No     | Class - > 30 days  | Class - < 30 days  |\n",
      "+----------------+--------------------+--------------------+--------------------+\n",
      "|   Percision    | 0.9518308733773917 | 0.975353094932523  | 0.9920939529178489 |\n",
      "|     Recall     | 0.9864851931816971 | 0.9292547283042218 | 0.983606214748306  |\n",
      "|  Specificity   | 0.9635959339263025 | 0.9913511734784974 | 0.9964876915063468 |\n",
      "|    F1-score    | 0.9688376976249137 | 0.9517242967998383 | 0.9878268880135218 |\n",
      "+----------------+--------------------+--------------------+--------------------+\n",
      "+-----------+---------+-----------+-----------+\n",
      "|           |    No   | > 30 days | < 30 days |\n",
      "+-----------+---------+-----------+-----------+\n",
      "|     No    | 11314.0 |   492.0   |    81.0   |\n",
      "| > 30 days |  115.0  |   6804.0  |    57.0   |\n",
      "| < 30 days |   40.0  |    26.0   |   8280.0  |\n",
      "+-----------+---------+-----------+-----------+\n"
     ]
    },
    {
     "data": {
      "image/png": "[encoded data removed]",
      "text/plain": [
       "<Figure size 432x288 with 2 Axes>"
      ]
     },
     "metadata": {
      "needs_background": "light"
     },
     "output_type": "display_data"
    },
    {
     "name": "stdout",
     "output_type": "stream",
     "text": [
      "----------------------------------------------------\n",
      "----------------25 Selected Features----------------\n",
      "+---------------+-----------------------+\n",
      "|     XTrees    | Avg. Accross 10 Folds |\n",
      "+---------------+-----------------------+\n",
      "| Training Time |         4.9796        |\n",
      "|    Accuracy   |   0.9165135445160152  |\n",
      "+---------------+-----------------------+\n",
      "+----------------+--------------------+--------------------+--------------------+\n",
      "| Metric / Class |     Class - No     | Class - > 30 days  | Class - < 30 days  |\n",
      "+----------------+--------------------+--------------------+--------------------+\n",
      "|   Percision    | 0.9068686998338983 | 0.9363900217006982 | 0.9322733157495419 |\n",
      "|     Recall     | 0.9895316376051999 | 0.7861908360121753 | 0.8393629290222183 |\n",
      "|  Specificity   | 0.8491469039168118 | 0.9834564186635516 | 0.9878509291844167 |\n",
      "|    F1-score    | 0.9463958788987951 | 0.8547142364183442 | 0.8833626410179953 |\n",
      "+----------------+--------------------+--------------------+--------------------+\n",
      "+-----------+---------+-----------+-----------+\n",
      "|           |    No   | > 30 days | < 30 days |\n",
      "+-----------+---------+-----------+-----------+\n",
      "|     No    | 38283.0 |   2813.0  |   1119.0  |\n",
      "| > 30 days |  209.0  |  12035.0  |   609.0   |\n",
      "| < 30 days |  196.0  |   460.0   |   9029.0  |\n",
      "+-----------+---------+-----------+-----------+\n"
     ]
    },
    {
     "data": {
      "image/png": "[encoded data removed]",
      "text/plain": [
       "<Figure size 432x288 with 2 Axes>"
      ]
     },
     "metadata": {
      "needs_background": "light"
     },
     "output_type": "display_data"
    },
    {
     "name": "stdout",
     "output_type": "stream",
     "text": [
      "----------------------------------------------------\n",
      "---------------All Selected Features----------------\n",
      "+---------------+-----------------------+\n",
      "|     XTrees    | Avg. Accross 10 Folds |\n",
      "+---------------+-----------------------+\n",
      "| Training Time |         6.8299        |\n",
      "|    Accuracy   |   0.888699021544283   |\n",
      "+---------------+-----------------------+\n",
      "+----------------+--------------------+--------------------+--------------------+\n",
      "| Metric / Class |     Class - No     | Class - > 30 days  | Class - < 30 days  |\n",
      "+----------------+--------------------+--------------------+--------------------+\n",
      "|   Percision    | 0.8721979557359338 | 0.9364312664779494 | 0.9269813380678824 |\n",
      "|     Recall     | 0.9961244124643513 | 0.7099934718932535 | 0.6793324530917914 |\n",
      "|  Specificity   | 0.7424056840970868 | 0.9853035146216473 | 0.9921323786967482 |\n",
      "|    F1-score    | 0.930045812872357  | 0.8076127837207651 | 0.7839279641992076 |\n",
      "+----------------+--------------------+--------------------+--------------------+\n",
      "+-----------+---------+-----------+-----------+\n",
      "|           |    No   | > 30 days | < 30 days |\n",
      "+-----------+---------+-----------+-----------+\n",
      "|     No    | 46522.0 |   4546.0  |   2272.0  |\n",
      "| > 30 days |   93.0  |  12143.0  |   731.0   |\n",
      "| < 30 days |   88.0  |   414.0   |   6362.0  |\n",
      "+-----------+---------+-----------+-----------+\n"
     ]
    },
    {
     "data": {
      "image/png": "[encoded data removed]",
      "text/plain": [
       "<Figure size 432x288 with 2 Axes>"
      ]
     },
     "metadata": {
      "needs_background": "light"
     },
     "output_type": "display_data"
    }
   ],
   "source": [
    "tables, xtrees_metrics_10 = train_model(model_name='XTrees', \n",
    "                                         X=X_cs_10, y=y_cs_10, folds=folds_10, \n",
    "                                         data_classes=data_classes_10)\n",
    "table1, table2, conf_mat, conf_mat_norm = tables\n",
    "print('----------------10 Selected Features----------------')\n",
    "print(table1)\n",
    "print(table2)\n",
    "print(conf_mat)\n",
    "plot_conf_mat(conf_mat_norm, '10 selected')\n",
    "\n",
    "print('----------------------------------------------------')\n",
    "\n",
    "tables, xtrees_metrics_15 = train_model(model_name='XTrees', \n",
    "                                         X=X_cs_15, y=y_cs_15, folds=folds_15, \n",
    "                                         data_classes=data_classes_15)\n",
    "table1, table2, conf_mat, conf_mat_norm = tables\n",
    "print('----------------15 Selected Features----------------')\n",
    "print(table1)\n",
    "print(table2)\n",
    "print(conf_mat)\n",
    "plot_conf_mat(conf_mat_norm, '15 selected')\n",
    "\n",
    "print('----------------------------------------------------')\n",
    "\n",
    "tables, xtrees_metrics_25 = train_model(model_name='XTrees', \n",
    "                                         X=X_cs_25, y=y_cs_25, folds=folds_25, \n",
    "                                         data_classes=data_classes_25)\n",
    "table1, table2, conf_mat, conf_mat_norm = tables\n",
    "print('----------------25 Selected Features----------------')\n",
    "print(table1)\n",
    "print(table2)\n",
    "print(conf_mat)\n",
    "plot_conf_mat(conf_mat_norm, '25 selected')\n",
    "\n",
    "print('----------------------------------------------------')\n",
    "\n",
    "tables, xtrees_metrics_all = train_model(model_name='XTrees', \n",
    "                                          X=X_cs_all, y=y_cs_all, folds=folds_all, \n",
    "                                          data_classes=data_classes_all)\n",
    "table1, table2, conf_mat, conf_mat_norm = tables\n",
    "print('---------------All Selected Features----------------')\n",
    "print(table1)\n",
    "print(table2)\n",
    "print(conf_mat)\n",
    "plot_conf_mat(conf_mat_norm, 'All selected')"
   ]
  },
  {
   "cell_type": "code",
   "execution_count": null,
   "metadata": {
    "scrolled": false
   },
   "outputs": [
    {
     "name": "stdout",
     "output_type": "stream",
     "text": [
      "----------------10 Selected Features----------------\n",
      "+---------------+-----------------------+\n",
      "|      KNN      | Avg. Accross 10 Folds |\n",
      "+---------------+-----------------------+\n",
      "| Training Time |         0.1878        |\n",
      "|    Accuracy   |   0.9626638700772526  |\n",
      "+---------------+-----------------------+\n",
      "+----------------+--------------------+--------------------+--------------------+\n",
      "| Metric / Class |     Class - No     | Class - > 30 days  | Class - < 30 days  |\n",
      "+----------------+--------------------+--------------------+--------------------+\n",
      "|   Percision    | 0.921130636886671  | 0.9697056380403399 | 0.9810185200182124 |\n",
      "|     Recall     | 0.9199200052455577 | 0.9670505076606695 | 0.9865955581892027 |\n",
      "|  Specificity   | 0.9792092178453855 | 0.9679446499608222 | 0.9926577656655923 |\n",
      "|    F1-score    | 0.9203875858442583 |  0.96835022488835  | 0.9837808331619478 |\n",
      "+----------------+--------------------+--------------------+--------------------+\n",
      "+-----------+--------+-----------+-----------+\n",
      "|           |   No   | > 30 days | < 30 days |\n",
      "+-----------+--------+-----------+-----------+\n",
      "|     No    | 2780.0 |   217.0   |    22.0   |\n",
      "| > 30 days | 194.0  |   7220.0  |    32.0   |\n",
      "| < 30 days |  48.0  |    29.0   |   3975.0  |\n",
      "+-----------+--------+-----------+-----------+\n"
     ]
    },
    {
     "data": {
      "image/png": "[encoded data removed]",
      "text/plain": [
       "<Figure size 432x288 with 2 Axes>"
      ]
     },
     "metadata": {
      "needs_background": "light"
     },
     "output_type": "display_data"
    },
    {
     "name": "stdout",
     "output_type": "stream",
     "text": [
      "----------------------------------------------------\n",
      "----------------15 Selected Features----------------\n",
      "+---------------+-----------------------+\n",
      "|      KNN      | Avg. Accross 10 Folds |\n",
      "+---------------+-----------------------+\n",
      "| Training Time |         0.7304        |\n",
      "|    Accuracy   |   0.9054355692111467  |\n",
      "+---------------+-----------------------+\n",
      "+----------------+--------------------+--------------------+--------------------+\n",
      "| Metric / Class |     Class - No     | Class - > 30 days  | Class - < 30 days  |\n",
      "+----------------+--------------------+--------------------+--------------------+\n",
      "|   Percision    | 0.878016617965806  | 0.9020017272358292 | 0.9486169068582386 |\n",
      "|     Recall     | 0.9307703836246312 | 0.8329741909511774 | 0.9339497996108015 |\n",
      "|  Specificity   |  0.90571791613723  | 0.9666618600647118 | 0.9773297249555556 |\n",
      "|    F1-score    | 0.903598403159578  | 0.8660412269915139 | 0.9412190930284421 |\n",
      "+----------------+--------------------+--------------------+--------------------+\n",
      "+-----------+---------+-----------+-----------+\n",
      "|           |    No   | > 30 days | < 30 days |\n",
      "+-----------+---------+-----------+-----------+\n",
      "|     No    | 10675.0 |   1103.0  |   381.0   |\n",
      "| > 30 days |  488.0  |   6099.0  |   175.0   |\n",
      "| < 30 days |  306.0  |   120.0   |   7862.0  |\n",
      "+-----------+---------+-----------+-----------+\n"
     ]
    },
    {
     "data": {
      "image/png": "[encoded data removed]",
      "text/plain": [
       "<Figure size 432x288 with 2 Axes>"
      ]
     },
     "metadata": {
      "needs_background": "light"
     },
     "output_type": "display_data"
    },
    {
     "name": "stdout",
     "output_type": "stream",
     "text": [
      "----------------------------------------------------\n",
      "----------------25 Selected Features----------------\n",
      "+---------------+-----------------------+\n",
      "|      KNN      | Avg. Accross 10 Folds |\n",
      "+---------------+-----------------------+\n",
      "| Training Time |   4.585500000000001   |\n",
      "|    Accuracy   |   0.8336757138326009  |\n",
      "+---------------+-----------------------+\n",
      "+----------------+--------------------+--------------------+--------------------+\n",
      "| Metric / Class |     Class - No     | Class - > 30 days  | Class - < 30 days  |\n",
      "+----------------+--------------------+--------------------+--------------------+\n",
      "|   Percision    | 0.8285062717811325 | 0.8326159856831004 | 0.8664334099706703 |\n",
      "|     Recall     | 0.9677160859941791 | 0.6511629803238517 | 0.6113253220368289 |\n",
      "|  Specificity   | 0.702628865964207  | 0.9594499977094315 | 0.9812207919161986 |\n",
      "|    F1-score    | 0.8927067776290183 | 0.730730778881931  | 0.7168264571504145 |\n",
      "+----------------+--------------------+--------------------+--------------------+\n",
      "+-----------+---------+-----------+-----------+\n",
      "|           |    No   | > 30 days | < 30 days |\n",
      "+-----------+---------+-----------+-----------+\n",
      "|     No    | 37439.0 |   4677.0  |   3074.0  |\n",
      "| > 30 days |  898.0  |   9968.0  |   1107.0  |\n",
      "| < 30 days |  351.0  |   663.0   |   6576.0  |\n",
      "+-----------+---------+-----------+-----------+\n"
     ]
    },
    {
     "data": {
      "image/png": "[encoded data removed]",
      "text/plain": [
       "<Figure size 432x288 with 2 Axes>"
      ]
     },
     "metadata": {
      "needs_background": "light"
     },
     "output_type": "display_data"
    },
    {
     "name": "stdout",
     "output_type": "stream",
     "text": [
      "----------------------------------------------------\n"
     ]
    }
   ],
   "source": [
    "tables, knn_metrics_10 = train_model(model_name='KNN', \n",
    "                                         X=X_cs_10, y=y_cs_10, folds=folds_10, \n",
    "                                         data_classes=data_classes_10)\n",
    "table1, table2, conf_mat, conf_mat_norm = tables\n",
    "print('----------------10 Selected Features----------------')\n",
    "print(table1)\n",
    "print(table2)\n",
    "print(conf_mat)\n",
    "plot_conf_mat(conf_mat_norm, '10 selected')\n",
    "\n",
    "print('----------------------------------------------------')\n",
    "\n",
    "tables, knn_metrics_15 = train_model(model_name='KNN', \n",
    "                                         X=X_cs_15, y=y_cs_15, folds=folds_15, \n",
    "                                         data_classes=data_classes_15)\n",
    "table1, table2, conf_mat, conf_mat_norm = tables\n",
    "print('----------------15 Selected Features----------------')\n",
    "print(table1)\n",
    "print(table2)\n",
    "print(conf_mat)\n",
    "plot_conf_mat(conf_mat_norm, '15 selected')\n",
    "\n",
    "print('----------------------------------------------------')\n",
    "\n",
    "tables, knn_metrics_25 = train_model(model_name='KNN', \n",
    "                                         X=X_cs_25, y=y_cs_25, folds=folds_25, \n",
    "                                         data_classes=data_classes_25)\n",
    "table1, table2, conf_mat, conf_mat_norm = tables\n",
    "print('----------------25 Selected Features----------------')\n",
    "print(table1)\n",
    "print(table2)\n",
    "print(conf_mat)\n",
    "plot_conf_mat(conf_mat_norm, '25 selected')\n",
    "\n",
    "print('----------------------------------------------------')\n",
    "\n",
    "tables, knn_metrics_all = train_model(model_name='KNN', \n",
    "                                          X=X_cs_all, y=y_cs_all, folds=folds_all, \n",
    "                                          data_classes=data_classes_all)\n",
    "table1, table2, conf_mat, conf_mat_norm = tables\n",
    "print('---------------All Selected Features----------------')\n",
    "print(table1)\n",
    "print(table2)\n",
    "print(conf_mat)\n",
    "plot_conf_mat(conf_mat_norm, 'All selected')"
   ]
  },
  {
   "cell_type": "code",
   "execution_count": null,
   "metadata": {
    "scrolled": false
   },
   "outputs": [],
   "source": [
    "tables, dt_metrics_10 = train_model(model_name='DT', \n",
    "                                         X=X_cs_10, y=y_cs_10, folds=folds_10, \n",
    "                                         data_classes=data_classes_10)\n",
    "table1, table2, conf_mat, conf_mat_norm = tables\n",
    "print('----------------10 Selected Features----------------')\n",
    "print(table1)\n",
    "print(table2)\n",
    "print(conf_mat)\n",
    "plot_conf_mat(conf_mat_norm, '10 selected')\n",
    "\n",
    "print('----------------------------------------------------')\n",
    "\n",
    "tables, dt_metrics_15 = train_model(model_name='DT', \n",
    "                                         X=X_cs_15, y=y_cs_15, folds=folds_15, \n",
    "                                         data_classes=data_classes_15)\n",
    "table1, table2, conf_mat, conf_mat_norm = tables\n",
    "print('----------------15 Selected Features----------------')\n",
    "print(table1)\n",
    "print(table2)\n",
    "print(conf_mat)\n",
    "plot_conf_mat(conf_mat_norm, '15 selected')\n",
    "\n",
    "print('----------------------------------------------------')\n",
    "\n",
    "tables, dt_metrics_25 = train_model(model_name='DT', \n",
    "                                         X=X_cs_25, y=y_cs_25, folds=folds_25, \n",
    "                                         data_classes=data_classes_25)\n",
    "table1, table2, conf_mat, conf_mat_norm = tables\n",
    "print('----------------25 Selected Features----------------')\n",
    "print(table1)\n",
    "print(table2)\n",
    "print(conf_mat)\n",
    "plot_conf_mat(conf_mat_norm, '25 selected')\n",
    "\n",
    "print('----------------------------------------------------')\n",
    "\n",
    "tables, dt_metrics_all = train_model(model_name='DT', \n",
    "                                          X=X_cs_all, y=y_cs_all, folds=folds_all, \n",
    "                                          data_classes=data_classes_all)\n",
    "table1, table2, conf_mat, conf_mat_norm = tables\n",
    "print('---------------All Selected Features----------------')\n",
    "print(table1)\n",
    "print(table2)\n",
    "print(conf_mat)\n",
    "plot_conf_mat(conf_mat_norm, 'All selected')"
   ]
  }
 ],
 "metadata": {
  "kernelspec": {
   "display_name": "Python 3",
   "language": "python",
   "name": "python3"
  },
  "language_info": {
   "codemirror_mode": {
    "name": "ipython",
    "version": 3
   },
   "file_extension": ".py",
   "mimetype": "text/x-python",
   "name": "python",
   "nbconvert_exporter": "python",
   "pygments_lexer": "ipython3",
   "version": "3.6.9"
  }
 },
 "nbformat": 4,
 "nbformat_minor": 2
}
