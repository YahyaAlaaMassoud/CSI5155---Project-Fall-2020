{
 "cells": [
  {
   "cell_type": "code",
   "execution_count": 1,
   "metadata": {},
   "outputs": [],
   "source": [
    "import pandas as pd\n",
    "import numpy as np\n",
    "import matplotlib.pyplot as plt\n",
    "import random\n",
    "import copy\n",
    "\n",
    "from itertools import product\n",
    "from sklearn.tree import DecisionTreeClassifier # Import Decision Tree Classifier\n",
    "from sklearn.naive_bayes import GaussianNB # Import Naive Bayes Classifier\n",
    "from sklearn.svm import SVC, LinearSVC # Import SVM Classifier\n",
    "from sklearn.neighbors import KNeighborsClassifier # Import KNN Classifier\n",
    "from sklearn.multiclass import OneVsOneClassifier\n",
    "from sklearn.ensemble import VotingClassifier\n",
    "from sklearn.ensemble import RandomForestClassifier, ExtraTreesClassifier\n",
    "from sklearn.preprocessing import label_binarize\n",
    "from sklearn.model_selection import train_test_split # Import train_test_split function\n",
    "from sklearn import metrics #Import scikit-learn metrics module for accuracy calculation\n",
    "from sklearn import tree\n",
    "from pprint import pprint\n",
    "from imblearn.over_sampling import SMOTE, ADASYN\n",
    "from imblearn.under_sampling import ClusterCentroids\n",
    "from imblearn.combine import SMOTEENN, SMOTETomek\n",
    "from sklearn.model_selection import KFold, cross_val_score, StratifiedKFold\n",
    "from prettytable import PrettyTable\n",
    "from scipy import stats\n",
    "from matplotlib.pyplot import pie, axis, show\n",
    "from sklearn.experimental import enable_iterative_imputer\n",
    "from sklearn.impute import IterativeImputer, SimpleImputer\n",
    "from sklearn.feature_selection import VarianceThreshold, SelectKBest, mutual_info_classif, SelectFromModel, RFE\n",
    "from sklearn.svm import SVR\n",
    "from sklearn.ensemble import GradientBoostingClassifier, AdaBoostClassifier\n",
    "from sklearn.model_selection import cross_validate\n",
    "from sklearn.metrics import recall_score\n",
    "\n",
    "from helpers import train_model, plot_conf_mat\n",
    "\n",
    "random.seed(0)"
   ]
  },
  {
   "cell_type": "code",
   "execution_count": 2,
   "metadata": {},
   "outputs": [
    {
     "name": "stdout",
     "output_type": "stream",
     "text": [
      "X_cs_15.shape, y_cs_15.shape (27209, 15) (27209,)\n"
     ]
    }
   ],
   "source": [
    "X_cs_15 = np.load('npy_data/X_combinedSampling_15Features_task1.npy')\n",
    "y_cs_15 = np.load('npy_data/y_combinedSampling_15Features_task1.npy')\n",
    "print('X_cs_15.shape, y_cs_15.shape', X_cs_15.shape, y_cs_15.shape)"
   ]
  },
  {
   "cell_type": "code",
   "execution_count": 3,
   "metadata": {},
   "outputs": [],
   "source": [
    "kfold = StratifiedKFold(10, random_state=False, shuffle=True)\n",
    "\n",
    "folds_15 = kfold.split(X_cs_15, y_cs_15)\n",
    "folds_15 = [(train, test) for train, test in folds_15]"
   ]
  },
  {
   "cell_type": "code",
   "execution_count": 4,
   "metadata": {},
   "outputs": [],
   "source": [
    "data_classes_15  = []\n",
    "\n",
    "for i in range(3):\n",
    "    data_classes_15.append(len(y_cs_15[y_cs_15==i]))"
   ]
  },
  {
   "cell_type": "code",
   "execution_count": 5,
   "metadata": {
    "scrolled": false
   },
   "outputs": [
    {
     "name": "stdout",
     "output_type": "stream",
     "text": [
      "----------------15 Selected Features----------------\n",
      "+---------------+-----------------------+\n",
      "|    XGBoost    | Avg. Accross 10 Folds |\n",
      "+---------------+-----------------------+\n",
      "| Training Time |         5.3156        |\n",
      "|    Accuracy   |   0.7829762117084982  |\n",
      "+---------------+-----------------------+\n",
      "+----------------+--------------------+--------------------+--------------------+\n",
      "| Metric / Class |     Class - No     | Class - > 30 days  | Class - < 30 days  |\n",
      "+----------------+--------------------+--------------------+--------------------+\n",
      "|   Percision    | 0.7942628522361683 | 0.7051955164013831 | 0.8204984805638649 |\n",
      "|     Recall     | 0.8369529130549228 | 0.5876836714154721 | 0.8793069555811004 |\n",
      "|  Specificity   | 0.8419313850063531 | 0.9096397091156418 | 0.9137881455731321 |\n",
      "|    F1-score    | 0.8150052243600419 | 0.6410047251744314 | 0.8488469244193544 |\n",
      "+----------------+--------------------+--------------------+--------------------+\n",
      "+-----------+--------+-----------+-----------+\n",
      "|           |   No   | > 30 days | < 30 days |\n",
      "+-----------+--------+-----------+-----------+\n",
      "|     No    | 9599.0 |   2142.0  |   346.0   |\n",
      "| > 30 days | 1127.0 |   4303.0  |   670.0   |\n",
      "| < 30 days | 743.0  |   877.0   |   7402.0  |\n",
      "+-----------+--------+-----------+-----------+\n"
     ]
    },
    {
     "data": {
      "image/png": "[encoded data removed]",
      "text/plain": [
       "<Figure size 432x288 with 2 Axes>"
      ]
     },
     "metadata": {
      "needs_background": "light"
     },
     "output_type": "display_data"
    }
   ],
   "source": [
    "tables, xgboost_metrics_15 = train_model(model_name='XGBoost', \n",
    "                                         X=X_cs_15, y=y_cs_15, folds=folds_15, \n",
    "                                         data_classes=data_classes_15)\n",
    "table1, table2, conf_mat, conf_mat_norm = tables\n",
    "print('----------------15 Selected Features----------------')\n",
    "print(table1)\n",
    "print(table2)\n",
    "print(conf_mat)\n",
    "plot_conf_mat(conf_mat_norm, '15 selected')"
   ]
  },
  {
   "cell_type": "code",
   "execution_count": 6,
   "metadata": {
    "scrolled": false
   },
   "outputs": [
    {
     "name": "stdout",
     "output_type": "stream",
     "text": [
      "----------------15 Selected Features----------------\n",
      "+---------------+-----------------------+\n",
      "|    AdaBoost   | Avg. Accross 10 Folds |\n",
      "+---------------+-----------------------+\n",
      "| Training Time |   0.5206999999999999  |\n",
      "|    Accuracy   |   0.7189898691008928  |\n",
      "+---------------+-----------------------+\n",
      "+----------------+--------------------+--------------------+--------------------+\n",
      "| Metric / Class |     Class - No     | Class - > 30 days  | Class - < 30 days  |\n",
      "+----------------+--------------------+--------------------+--------------------+\n",
      "|   Percision    | 0.7525174701934887 | 0.597651752047326  | 0.7660787049406583 |\n",
      "|     Recall     | 0.727964520845791  | 0.545897352746032  | 0.8573291043068849 |\n",
      "|  Specificity   | 0.8254129606099111 | 0.8645858749115567 | 0.8826566303941661 |\n",
      "|    F1-score    | 0.7398572751909921 | 0.5703024069103539 | 0.8090937290078323 |\n",
      "+----------------+--------------------+--------------------+--------------------+\n",
      "+-----------+--------+-----------+-----------+\n",
      "|           |   No   | > 30 days | < 30 days |\n",
      "+-----------+--------+-----------+-----------+\n",
      "|     No    | 8349.0 |   2282.0  |   466.0   |\n",
      "| > 30 days | 1958.0 |   3997.0  |   735.0   |\n",
      "| < 30 days | 1162.0 |   1043.0  |   7217.0  |\n",
      "+-----------+--------+-----------+-----------+\n"
     ]
    },
    {
     "data": {
      "image/png": "[encoded data removed]",
      "text/plain": [
       "<Figure size 432x288 with 2 Axes>"
      ]
     },
     "metadata": {
      "needs_background": "light"
     },
     "output_type": "display_data"
    }
   ],
   "source": [
    "tables, adaboost_metrics_15 = train_model(model_name='AdaBoost', \n",
    "                                         X=X_cs_15, y=y_cs_15, folds=folds_15, \n",
    "                                         data_classes=data_classes_15)\n",
    "table1, table2, conf_mat, conf_mat_norm = tables\n",
    "print('----------------15 Selected Features----------------')\n",
    "print(table1)\n",
    "print(table2)\n",
    "print(conf_mat)\n",
    "plot_conf_mat(conf_mat_norm, '15 selected')"
   ]
  },
  {
   "cell_type": "code",
   "execution_count": 7,
   "metadata": {
    "scrolled": false
   },
   "outputs": [
    {
     "name": "stdout",
     "output_type": "stream",
     "text": [
      "----------------15 Selected Features----------------\n",
      "+---------------+-----------------------+\n",
      "|     XTrees    | Avg. Accross 10 Folds |\n",
      "+---------------+-----------------------+\n",
      "| Training Time |         1.1991        |\n",
      "|    Accuracy   |    0.96993629342586   |\n",
      "+---------------+-----------------------+\n",
      "+----------------+--------------------+--------------------+--------------------+\n",
      "| Metric / Class |     Class - No     | Class - > 30 days  | Class - < 30 days  |\n",
      "+----------------+--------------------+--------------------+--------------------+\n",
      "|   Percision    | 0.9522073915977991 | 0.9754890643851966 | 0.9905593575536432 |\n",
      "|     Recall     | 0.986223641307242  | 0.9281623912508667 | 0.984081556567936  |\n",
      "|  Specificity   | 0.9639135959339262 | 0.9914015765002752 | 0.9957958624438079 |\n",
      "|    F1-score    | 0.9689091118216581 | 0.9512176894237324 | 0.9873045115350154 |\n",
      "+----------------+--------------------+--------------------+--------------------+\n",
      "+-----------+---------+-----------+-----------+\n",
      "|           |    No   | > 30 days | < 30 days |\n",
      "+-----------+---------+-----------+-----------+\n",
      "|     No    | 11311.0 |   491.0   |    77.0   |\n",
      "| > 30 days |  114.0  |   6796.0  |    57.0   |\n",
      "| < 30 days |   44.0  |    35.0   |   8284.0  |\n",
      "+-----------+---------+-----------+-----------+\n"
     ]
    },
    {
     "data": {
      "image/png": "[encoded data removed]",
      "text/plain": [
       "<Figure size 432x288 with 2 Axes>"
      ]
     },
     "metadata": {
      "needs_background": "light"
     },
     "output_type": "display_data"
    }
   ],
   "source": [
    "tables, xtrees_metrics_15 = train_model(model_name='XTrees', \n",
    "                                         X=X_cs_15, y=y_cs_15, folds=folds_15, \n",
    "                                         data_classes=data_classes_15)\n",
    "table1, table2, conf_mat, conf_mat_norm = tables\n",
    "print('----------------15 Selected Features----------------')\n",
    "print(table1)\n",
    "print(table2)\n",
    "print(conf_mat)\n",
    "plot_conf_mat(conf_mat_norm, '15 selected')"
   ]
  },
  {
   "cell_type": "code",
   "execution_count": 8,
   "metadata": {
    "scrolled": false
   },
   "outputs": [
    {
     "name": "stdout",
     "output_type": "stream",
     "text": [
      "----------------15 Selected Features----------------\n",
      "+---------------+-----------------------+\n",
      "|      KNN      | Avg. Accross 10 Folds |\n",
      "+---------------+-----------------------+\n",
      "| Training Time |         0.7433        |\n",
      "|    Accuracy   |   0.9054355692111467  |\n",
      "+---------------+-----------------------+\n",
      "+----------------+--------------------+--------------------+--------------------+\n",
      "| Metric / Class |     Class - No     | Class - > 30 days  | Class - < 30 days  |\n",
      "+----------------+--------------------+--------------------+--------------------+\n",
      "|   Percision    | 0.878016617965806  | 0.9020017272358292 | 0.9486169068582386 |\n",
      "|     Recall     | 0.9307703836246312 | 0.8329741909511774 | 0.9339497996108015 |\n",
      "|  Specificity   |  0.90571791613723  | 0.9666618600647118 | 0.9773297249555556 |\n",
      "|    F1-score    | 0.903598403159578  | 0.8660412269915139 | 0.9412190930284421 |\n",
      "+----------------+--------------------+--------------------+--------------------+\n",
      "+-----------+---------+-----------+-----------+\n",
      "|           |    No   | > 30 days | < 30 days |\n",
      "+-----------+---------+-----------+-----------+\n",
      "|     No    | 10675.0 |   1103.0  |   381.0   |\n",
      "| > 30 days |  488.0  |   6099.0  |   175.0   |\n",
      "| < 30 days |  306.0  |   120.0   |   7862.0  |\n",
      "+-----------+---------+-----------+-----------+\n"
     ]
    },
    {
     "data": {
      "image/png": "[encoded data removed]",
      "text/plain": [
       "<Figure size 432x288 with 2 Axes>"
      ]
     },
     "metadata": {
      "needs_background": "light"
     },
     "output_type": "display_data"
    }
   ],
   "source": [
    "tables, knn_metrics_15 = train_model(model_name='KNN', \n",
    "                                         X=X_cs_15, y=y_cs_15, folds=folds_15, \n",
    "                                         data_classes=data_classes_15)\n",
    "table1, table2, conf_mat, conf_mat_norm = tables\n",
    "print('----------------15 Selected Features----------------')\n",
    "print(table1)\n",
    "print(table2)\n",
    "print(conf_mat)\n",
    "plot_conf_mat(conf_mat_norm, '15 selected')"
   ]
  },
  {
   "cell_type": "code",
   "execution_count": 9,
   "metadata": {
    "scrolled": false
   },
   "outputs": [
    {
     "name": "stdout",
     "output_type": "stream",
     "text": [
      "----------------15 Selected Features----------------\n",
      "+---------------+-----------------------+\n",
      "|       DT      | Avg. Accross 10 Folds |\n",
      "+---------------+-----------------------+\n",
      "| Training Time |  0.021199999999999997 |\n",
      "|    Accuracy   |   0.7071192603281665  |\n",
      "+---------------+-----------------------+\n",
      "+----------------+--------------------+--------------------+--------------------+\n",
      "| Metric / Class |     Class - No     | Class - > 30 days  | Class - < 30 days  |\n",
      "+----------------+--------------------+--------------------+--------------------+\n",
      "|   Percision    | 0.7046673002020468 | 0.6263707704106782 | 0.7624728612766848 |\n",
      "|     Recall     | 0.7655386766601088 | 0.4713204213539687 | 0.8326253103278815 |\n",
      "|  Specificity   | 0.765120711562897  | 0.8950549378765051 | 0.8837210546578647 |\n",
      "|    F1-score    | 0.7330562354224277 | 0.5349621522693527 | 0.7958849757281872 |\n",
      "+----------------+--------------------+--------------------+--------------------+\n",
      "+-----------+--------+-----------+-----------+\n",
      "|           |   No   | > 30 days | < 30 days |\n",
      "+-----------+--------+-----------+-----------+\n",
      "|     No    | 8780.0 |   2860.0  |   837.0   |\n",
      "| > 30 days | 1515.0 |   3451.0  |   572.0   |\n",
      "| < 30 days | 1174.0 |   1011.0  |   7009.0  |\n",
      "+-----------+--------+-----------+-----------+\n"
     ]
    },
    {
     "data": {
      "image/png": "[encoded data removed]",
      "text/plain": [
       "<Figure size 432x288 with 2 Axes>"
      ]
     },
     "metadata": {
      "needs_background": "light"
     },
     "output_type": "display_data"
    }
   ],
   "source": [
    "tables, dt_metrics_15 = train_model(model_name='DT', \n",
    "                                         X=X_cs_15, y=y_cs_15, folds=folds_15, \n",
    "                                         data_classes=data_classes_15)\n",
    "table1, table2, conf_mat, conf_mat_norm = tables\n",
    "print('----------------15 Selected Features----------------')\n",
    "print(table1)\n",
    "print(table2)\n",
    "print(conf_mat)\n",
    "plot_conf_mat(conf_mat_norm, '15 selected')"
   ]
  },
  {
   "cell_type": "code",
   "execution_count": 10,
   "metadata": {},
   "outputs": [
    {
     "name": "stdout",
     "output_type": "stream",
     "text": [
      "XGBoost vs AdaBoost -- (0, 1)\n",
      "XGBoost vs XTrees -- (0, 2)\n",
      "XGBoost vs KNN -- (0, 3)\n",
      "XGBoost vs DT -- (0, 4)\n",
      "AdaBoost vs XTrees -- (1, 2)\n",
      "AdaBoost vs KNN -- (1, 3)\n",
      "AdaBoost vs DT -- (1, 4)\n",
      "XTrees vs KNN -- (2, 3)\n",
      "XTrees vs DT -- (2, 4)\n",
      "KNN vs DT -- (3, 4)\n"
     ]
    }
   ],
   "source": [
    "all_scores = [xgboost_metrics_15['balanced_acc'], \n",
    "              adaboost_metrics_15['balanced_acc'], \n",
    "              xtrees_metrics_15['balanced_acc'], \n",
    "              knn_metrics_15['balanced_acc'], \n",
    "              dt_metrics_15['balanced_acc']]\n",
    "\n",
    "all_pairs_idx = set()\n",
    "all_clf = ['XGBoost',\n",
    "           'AdaBoost',\n",
    "           'XTrees',\n",
    "           'KNN',\n",
    "           'DT']\n",
    "for i in range(5):\n",
    "    for j in range(i + 1, 5):\n",
    "        all_pairs_idx.add((i, j))\n",
    "        print(all_clf[i], 'vs', all_clf[j], '--', (i, j))\n",
    "# print(all_pairs_idx)"
   ]
  },
  {
   "cell_type": "code",
   "execution_count": 12,
   "metadata": {},
   "outputs": [
    {
     "name": "stdout",
     "output_type": "stream",
     "text": [
      "-64.32404940638384\n"
     ]
    }
   ],
   "source": [
    "K = 10\n",
    "paired_ttest = {}\n",
    "for pair in all_pairs_idx:\n",
    "    clf1, clf2 = pair\n",
    "    score_diff = []\n",
    "    for i in range(K):\n",
    "        score_diff.append(all_scores[clf1][i] - all_scores[clf2][i])\n",
    "    t, p = stats.ttest_rel(all_scores[clf1], all_scores[clf2])\n",
    "    paired_ttest[pair] = {\n",
    "        'score_diff': score_diff,\n",
    "        't_stat': np.round(t, 3), \n",
    "        'p_value': p, \n",
    "    }"
   ]
  },
  {
   "cell_type": "code",
   "execution_count": 13,
   "metadata": {},
   "outputs": [
    {
     "name": "stdout",
     "output_type": "stream",
     "text": [
      "+------------------------------+-----------+------------+---------+------------------------+\n",
      "| Classifier-1 vs Classifier-2 |  avg_diff | stdev_diff |  tvalue |         pvalue         |\n",
      "+------------------------------+-----------+------------+---------+------------------------+\n",
      "|     XGBoost vs AdaBoost      |  0.057584 |  0.007347  |  23.514 | 2.1686364157886277e-09 |\n",
      "|      AdaBoost vs XTrees      | -0.255759 |  0.009475  | -80.979 | 3.381365324071126e-14  |\n",
      "|       AdaBoost vs KNN        | -0.188834 |  0.008442  | -67.105 | 1.830447591166711e-13  |\n",
      "|        AdaBoost vs DT        |  0.020569 |  0.012887  |  4.788  | 0.0009896556267511838  |\n",
      "|         XTrees vs DT         |  0.276328 |  0.009009  |  92.019 | 1.071738072340494e-14  |\n",
      "|        XTrees vs KNN         |  0.066924 |  0.005291  |  37.944 | 3.0448039214909305e-11 |\n",
      "|        XGBoost vs DT         |  0.078153 |  0.010204  |  22.976 | 2.6627162191740695e-09 |\n",
      "|        XGBoost vs KNN        | -0.131250 |  0.008346  | -47.179 | 4.3245359222527205e-12 |\n",
      "|          KNN vs DT           |  0.209403 |  0.009893  |  63.498 | 3.006653543644702e-13  |\n",
      "|      XGBoost vs XTrees       | -0.198175 |  0.009243  | -64.324 | 2.6770101600422535e-13 |\n",
      "+------------------------------+-----------+------------+---------+------------------------+\n"
     ]
    }
   ],
   "source": [
    "t = PrettyTable(['Classifier-1 vs Classifier-2', 'avg_diff', 'stdev_diff', 'tvalue', 'pvalue'])\n",
    "for pair in all_pairs_idx:\n",
    "    clf1, clf2 = pair\n",
    "    t.add_row([all_clf[clf1] + ' vs ' + all_clf[clf2], \n",
    "               \"{:0.6f}\".format(np.mean(paired_ttest[pair]['score_diff'])), \n",
    "               \"{:0.6f}\".format(np.std(paired_ttest[pair]['score_diff'])), \n",
    "               paired_ttest[pair]['t_stat'],\n",
    "               paired_ttest[pair]['p_value']])\n",
    "print(t)"
   ]
  }
 ],
 "metadata": {
  "kernelspec": {
   "display_name": "Python 3",
   "language": "python",
   "name": "python3"
  },
  "language_info": {
   "codemirror_mode": {
    "name": "ipython",
    "version": 3
   },
   "file_extension": ".py",
   "mimetype": "text/x-python",
   "name": "python",
   "nbconvert_exporter": "python",
   "pygments_lexer": "ipython3",
   "version": "3.6.9"
  }
 },
 "nbformat": 4,
 "nbformat_minor": 2
}
